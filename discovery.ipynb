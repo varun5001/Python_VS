{
  "nbformat": 4,
  "nbformat_minor": 0,
  "metadata": {
    "colab": {
      "name": "discovery.ipynb",
      "version": "0.3.2",
      "views": {},
      "default_view": {},
      "provenance": [],
      "collapsed_sections": []
    }
  },
  "cells": [
    {
      "metadata": {
        "id": "jTx9wAqb4fi2",
        "colab_type": "code",
        "colab": {
          "autoexec": {
            "startup": false,
            "wait_interval": 0
          }
        }
      },
      "source": [
        "!pip install watson-developer-cloud\n"
      ],
      "cell_type": "code",
      "execution_count": 0,
      "outputs": []
    },
    {
      "metadata": {
        "id": "NKIbKvjl5oil",
        "colab_type": "code",
        "colab": {
          "autoexec": {
            "startup": false,
            "wait_interval": 0
          }
        }
      },
      "source": [
        "import sys\n",
        "import os\n",
        "import json\n",
        "from watson_developer_cloud import DiscoveryV1\n",
        "\n",
        "discovery = DiscoveryV1(\n",
        "  username=\"224da301-5fd4-4b39-a4a7-24f061fbe5b4\",\n",
        "  password=\"5eETUXiEQNPA\",\n",
        "  version=\"2017-11-07\"\n",
        ")\n",
        "\n",
        "doc_info = discovery.get_document_status('0030b8f7-85f9-43bc-88c3-8b8b876b93bb', '560bb01e-033b-432e-af92-3d91530ec592', '4ebb824f113f75c2553aa524f7e3e6a9')\n",
        "print(json.dumps(doc_info, indent=2))"
      ],
      "cell_type": "code",
      "execution_count": 0,
      "outputs": []
    },
    {
      "metadata": {
        "id": "qQowzvc062TN",
        "colab_type": "code",
        "colab": {
          "autoexec": {
            "startup": false,
            "wait_interval": 0
          },
          "output_extras": [
            {},
            {},
            {}
          ],
          "base_uri": "https://localhost:8080/",
          "height": 72
        },
        "outputId": "256510f3-d3b3-4ad3-dc3a-96be429c2d51",
        "executionInfo": {
          "status": "ok",
          "timestamp": 1512137414885,
          "user_tz": 360,
          "elapsed": 7273,
          "user": {
            "displayName": "Varun Sriram",
            "photoUrl": "//lh6.googleusercontent.com/-tIN8hlhcFmw/AAAAAAAAAAI/AAAAAAAAD5w/M4upxS3Lpqc/s50-c-k-no/photo.jpg",
            "userId": "108107051038009566542"
          }
        }
      },
      "source": [
        "from google.colab import files\n",
        "\n",
        "uploaded = files.upload()\n",
        "\n",
        "for fn in uploaded.keys():\n",
        "  print('User uploaded file \"{name}\" with length {length} bytes'.format(\n",
        "      name=fn, length=len(uploaded[fn])))"
      ],
      "cell_type": "code",
      "execution_count": 0,
      "outputs": [
        {
          "output_type": "display_data",
          "data": {
            "text/plain": [
              "<IPython.core.display.HTML object>"
            ],
            "text/html": [
              "\n",
              "     <input type=\"file\" id=\"files-61534195-d4a0-46ff-a563-65e89f49f271\" name=\"files[]\" multiple disabled />\n",
              "     <output id=\"result-61534195-d4a0-46ff-a563-65e89f49f271\">\n",
              "      Upload widget is only available when the cell has been executed in the\n",
              "      current browser session. Please rerun this cell to enable.\n",
              "      </span>"
            ]
          },
          "metadata": {
            "tags": []
          }
        },
        {
          "output_type": "display_data",
          "data": {
            "application/javascript": [
              "\n",
              "(function(scope) {\n",
              "function span(text, styleAttributes = {}) {\n",
              "  const element = document.createElement('span');\n",
              "  element.textContent = text;\n",
              "  for (const key of Object.keys(styleAttributes)) {\n",
              "    element.style[key] = styleAttributes[key];\n",
              "  }\n",
              "  return element;\n",
              "}\n",
              "\n",
              "// Max number of bytes which will be uploaded at a time.\n",
              "const MAX_PAYLOAD_SIZE = 100 * 1024;\n",
              "// Max amount of time to block waiting for the user.\n",
              "const FILE_CHANGE_TIMEOUT_MS = 30 * 1000;\n",
              "\n",
              "function uploadFiles(inputId, outputId) {\n",
              "  const steps = uploadFilesStep(inputId, outputId);\n",
              "  const outputElement = document.getElementById(outputId);\n",
              "  // Cache steps on the outputElement to make it available for the next call\n",
              "  // to uploadFilesContinue from Python.\n",
              "  outputElement.steps = steps;\n",
              "\n",
              "  return uploadFilesContinue(outputId);\n",
              "}\n",
              "\n",
              "// This is roughly an async generator (not supported in the browser yet),\n",
              "// where there are multiple asynchronous steps and the Python side is going\n",
              "// to poll for completion of each step.\n",
              "// This uses a Promise to block the python side on completion of each step,\n",
              "// then passes the result of the previous step as the input to the next step.\n",
              "function uploadFilesContinue(outputId) {\n",
              "  const outputElement = document.getElementById(outputId);\n",
              "  const steps = outputElement.steps;\n",
              "\n",
              "  const next = steps.next(outputElement.lastPromiseValue);\n",
              "  return Promise.resolve(next.value.promise).then((value) => {\n",
              "    // Cache the last promise value to make it available to the next\n",
              "    // step of the generator.\n",
              "    outputElement.lastPromiseValue = value;\n",
              "    return next.value.response;\n",
              "  });\n",
              "}\n",
              "\n",
              "/**\n",
              " * Generator function which is called between each async step of the upload\n",
              " * process.\n",
              " * @param {string} inputId Element ID of the input file picker element.\n",
              " * @param {string} outputId Element ID of the output display.\n",
              " * @return {!Iterable<!Object>} Iterable of next steps.\n",
              " */\n",
              "function* uploadFilesStep(inputId, outputId) {\n",
              "  const inputElement = document.getElementById(inputId);\n",
              "  inputElement.disabled = false;\n",
              "\n",
              "  const outputElement = document.getElementById(outputId);\n",
              "  outputElement.innerHTML = '';\n",
              "\n",
              "  const pickedPromise = new Promise((resolve) => {\n",
              "    inputElement.addEventListener('change', (e) => {\n",
              "      resolve(e.target.files);\n",
              "    });\n",
              "  });\n",
              "\n",
              "  const cancel = document.createElement('button');\n",
              "  inputElement.parentElement.appendChild(cancel);\n",
              "  cancel.textContent = 'Cancel upload';\n",
              "  const cancelPromise = new Promise((resolve) => {\n",
              "    cancel.onclick = () => {\n",
              "      resolve(null);\n",
              "    };\n",
              "  });\n",
              "\n",
              "  // Cancel upload if user hasn't picked anything in timeout.\n",
              "  const timeoutPromise = new Promise((resolve) => {\n",
              "    setTimeout(() => {\n",
              "      resolve(null);\n",
              "    }, FILE_CHANGE_TIMEOUT_MS);\n",
              "  });\n",
              "\n",
              "  // Wait for the user to pick the files.\n",
              "  const files = yield {\n",
              "    promise: Promise.race([pickedPromise, timeoutPromise, cancelPromise]),\n",
              "    response: {\n",
              "      action: 'starting',\n",
              "    }\n",
              "  };\n",
              "\n",
              "  if (!files) {\n",
              "    return {\n",
              "      response: {\n",
              "        action: 'complete',\n",
              "      }\n",
              "    };\n",
              "  }\n",
              "\n",
              "  cancel.remove();\n",
              "\n",
              "  // Disable the input element since further picks are not allowed.\n",
              "  inputElement.disabled = true;\n",
              "\n",
              "  for (const file of files) {\n",
              "    const li = document.createElement('li');\n",
              "    li.append(span(file.name, {fontWeight: 'bold'}));\n",
              "    li.append(span(\n",
              "        `(${file.type || 'n/a'}) - ${file.size} bytes, ` +\n",
              "        `last modified: ${\n",
              "                          file.lastModifiedDate ?\n",
              "                              file.lastModifiedDate.toLocaleDateString() :\n",
              "                              'n/a'\n",
              "                        } - %`));\n",
              "    const percent = span('0 done');\n",
              "    li.appendChild(percent);\n",
              "\n",
              "    outputElement.appendChild(li);\n",
              "\n",
              "    const fileDataPromise = new Promise((resolve) => {\n",
              "      const reader = new FileReader();\n",
              "      reader.onload = (e) => {\n",
              "        resolve(e.target.result);\n",
              "      };\n",
              "      reader.readAsArrayBuffer(file);\n",
              "    });\n",
              "    // Wait for the data to be ready.\n",
              "    let fileData = yield {\n",
              "      promise: fileDataPromise,\n",
              "      response: {\n",
              "        action: 'continue',\n",
              "      }\n",
              "    };\n",
              "\n",
              "    // Use a chunked sending to avoid message size limits. See b/62115660.\n",
              "    let position = 0;\n",
              "    while (position < fileData.byteLength) {\n",
              "      const length = Math.min(fileData.byteLength - position, MAX_PAYLOAD_SIZE);\n",
              "      const chunk = new Uint8Array(fileData, position, length);\n",
              "      position += length;\n",
              "\n",
              "      const base64 = btoa(String.fromCharCode.apply(null, chunk));\n",
              "      yield {\n",
              "        response: {\n",
              "          action: 'append',\n",
              "          file: file.name,\n",
              "          data: base64,\n",
              "        },\n",
              "      };\n",
              "      percent.textContent =\n",
              "          `${Math.round((position / fileData.byteLength) * 100)} done`;\n",
              "    }\n",
              "  }\n",
              "\n",
              "  // All done.\n",
              "  yield {\n",
              "    response: {\n",
              "      action: 'complete',\n",
              "    }\n",
              "  };\n",
              "}\n",
              "\n",
              "scope.google = scope.google || {};\n",
              "scope.google.colab = scope.google.colab || {};\n",
              "scope.google.colab.files = {\n",
              "  uploadFiles,\n",
              "  uploadFilesContinue,\n",
              "};\n",
              "})(self);\n"
            ],
            "text/plain": [
              "<IPython.core.display.Javascript object>"
            ]
          },
          "metadata": {
            "tags": []
          }
        },
        {
          "output_type": "stream",
          "text": [
            "User uploaded file \"docids.txt\" with length 11762 bytes\n"
          ],
          "name": "stdout"
        }
      ]
    },
    {
      "metadata": {
        "id": "2usmfsKS67Sl",
        "colab_type": "code",
        "colab": {
          "autoexec": {
            "startup": false,
            "wait_interval": 0
          }
        }
      },
      "source": [
        "with open(\"my_data.txt\", 'w') as f:\n",
        "    f.write(uploaded[uploaded.keys()[0]])"
      ],
      "cell_type": "code",
      "execution_count": 0,
      "outputs": []
    },
    {
      "metadata": {
        "id": "uboO080m8Ts_",
        "colab_type": "code",
        "colab": {
          "autoexec": {
            "startup": false,
            "wait_interval": 0
          },
          "output_extras": [
            {}
          ],
          "base_uri": "https://localhost:8080/",
          "height": 54
        },
        "outputId": "2744d49d-cd00-449d-8470-8391c2ac06fe",
        "executionInfo": {
          "status": "ok",
          "timestamp": 1512137446881,
          "user_tz": 360,
          "elapsed": 610,
          "user": {
            "displayName": "Varun Sriram",
            "photoUrl": "//lh6.googleusercontent.com/-tIN8hlhcFmw/AAAAAAAAAAI/AAAAAAAAD5w/M4upxS3Lpqc/s50-c-k-no/photo.jpg",
            "userId": "108107051038009566542"
          }
        }
      },
      "source": [
        "lines = [line.rstrip('\\n') for line in open('my_data.txt')]\n",
        "lines = [line.replace('\\r','') for line in lines]\n",
        "\n",
        "print(lines)"
      ],
      "cell_type": "code",
      "execution_count": 0,
      "outputs": [
        {
          "output_type": "stream",
          "text": [
            "['498e0750b589dfcaa738a596aa105d0c', '498e0750b589dfcaa738a596aa105d0c', '0519d221e84d23a20b5037918bf6a85b', '76ee3fc43e7d8ae58298a833ef43823a', '0519d221e84d23a20b5037918bf6a85b', '0519d221e84d23a20b5037918bf6a85b', '0519d221e84d23a20b5037918bf6a85b', '0519d221e84d23a20b5037918bf6a85b', 'e09768ce9040db99c103c2fa15ddc1ad', 'e09768ce9040db99c103c2fa15ddc1ad', 'e09768ce9040db99c103c2fa15ddc1ad', 'e09768ce9040db99c103c2fa15ddc1ad', 'e09768ce9040db99c103c2fa15ddc1ad', 'e09768ce9040db99c103c2fa15ddc1ad', '1a626416cc943ba2518fbcddcb9cfa91', '2e6cc6d3f2a7c8a389e72f208bace7b1', '675c5c2af43bdf33bfeae33733e6c0b8', 'bfa537ec033a947c617cfe4a5c8d2dcc', 'eb32c9596e7a87a1b6dce2940f88ce5e', 'eff6942ab8061d3a17ef7dca3ba728f3', '22392f993e0a5f67a80bdc9da45a80d9', 'bfa537ec033a947c617cfe4a5c8d2dcc', 'f480c6237455ab88fd33a226fb9d8335', '19086abbe28a64250134f1e1aa151e69', '1a904643c40b968da7d051046d703091', '2abb04c60849f6178b09ad834c9972be', 'c86226743702e66a184fec3d643d30c5', 'db27b008542ad1c6164cae8f39f2c951', 'defe3735f6d0a2bcbba12f4481d13f01', 'f7192389dad1afb3245db00b3bef8530', '1a4fc0e6bf97bfd032edd430793c4ba4', '8de6cd69f4131a5cee2208bba33fbbc1', 'cdcd8f911a06c3024e8e55c0d30fb289', '1a626416cc943ba2518fbcddcb9cfa91', '675c5c2af43bdf33bfeae33733e6c0b8', 'bfa537ec033a947c617cfe4a5c8d2dcc', '0b9f95cef28baebdb0a72a40f3fdbe13', '22392f993e0a5f67a80bdc9da45a80d9', '38935277bdfea2a7bad838323b8015f2', 'a20d7fce7a248cc3cc8a3cd6bcc99a5d', 'e546fbab049ab28f2b18e5ca090f3438', 'fcdb9f075e9626f71a0e8338d1cee151', '0f083ecade675a490633b5c3a5863774', '91e84530f81386227e3d834a65885f0c', 'b62dae5aa79e9fd971373eed0c4ee2bf', '06dd3e30b400cae3d978dea6ccafafe3', '0966a9bef07462142d57d08c05a5e624', '0e03a6e736ed511b964c7f99fad35f11', '3ad7927bb90934fff71e6a265d60d5e9', '642bf038bff92f6b293284aed231e428', '7f1108746785c3cc971d820b274b91a8', '81ae8251c3f86baabb96d2b7bbf54f18', '8a684c79f0b0c79e23844c833b8cf734', '94bf605d174d11963b6a6dc068f85dcd', 'b9d43a16517d7a3e1852f861b769c924', 'e3d0eb5e2bd3da08cd2fc7ce235ee161', '0f083ecade675a490633b5c3a5863774', '3a2c252218996300349265b7967d6dd7', '3ad7927bb90934fff71e6a265d60d5e9', 'b62dae5aa79e9fd971373eed0c4ee2bf', 'b9d43a16517d7a3e1852f861b769c924', 'bce81280feda0f858be57348b7082fc7', '8b61653f1fae0a00dcc5b9a2caed5671', '91e84530f81386227e3d834a65885f0c', '16f198cac207df757f1350496cf06424', '8a684c79f0b0c79e23844c833b8cf734', 'b278c10159b6ad7c5a7a73fad01ea6a8', 'de91e85c89c17cb5e21b4c782e7efe0b', 'f5657ed1a6a53d2a4c5aa3e76ea73c62', '1a904643c40b968da7d051046d703091', '277e2964de5b42f9250cf5163c0c39cb', '428fc182cc857cb5f16e64bb932799cf', '5801036163dbac1be93de149b86be85b', '72aaf8a110ea68853d1b01f01091e329', '7eb771d5effa7507cd735d2c256f582f', '8fd9d6644c09d605fd39a0444db93dcd', 'cf6fa9a5f7ed1be2d4b8b9cfb2c9554f', 'e9c70333d62742cd12f2642e6ff719c3', 'f7192389dad1afb3245db00b3bef8530', 'f7192389dad1afb3245db00b3bef8530', 'feb546278de702c08cea8f102ce84665', '1827dc9a3c4641771cbf3367418e61c4', '7a33ee043c6d20e0931e28f921ef3a6e', 'fba5401a89d4ef13c9de50cfb5fcdf6d', '1a904643c40b968da7d051046d703091', '5801036163dbac1be93de149b86be85b', 'cf6fa9a5f7ed1be2d4b8b9cfb2c9554f', '5801036163dbac1be93de149b86be85b', 'f7192389dad1afb3245db00b3bef8530', '19086abbe28a64250134f1e1aa151e69', '1a904643c40b968da7d051046d703091', 'defe3735f6d0a2bcbba12f4481d13f01', '38be480c872831b0e7de8f274b71697c', '5df9abc596b3ae6f64e368fdaf054324', '6771cdd90de070f60e6049283f1ea5cd', '97ff71bde3a1ad3d69cf12ea3353226b', '99f817bb19829cd1379868d456966818', 'b408cca3d74cdfccea40925f28a98db1', 'b62dae5aa79e9fd971373eed0c4ee2bf', 'bdef5aba144db2f8ef2561725422dbdf', 'e9c70333d62742cd12f2642e6ff719c3', '0e03a6e736ed511b964c7f99fad35f11', 'bdef5aba144db2f8ef2561725422dbdf', 'cdcd8f911a06c3024e8e55c0d30fb289', 'e3113f2d26ecb431c4f22a90c24661f9', 'f0bd705d2ee12fac739d0f86358478dc', '0beb2fa61ac377fc4b6302c18f49262f', '1a4fc0e6bf97bfd032edd430793c4ba4', '1a904643c40b968da7d051046d703091', '864cca9720220b63f82b4865a600ca48', 'a71118b9c052db1dc4563cc9ea442c4d', 'bb6ffbcae4a58b56bd4c4fb125fcd046', 'bfa537ec033a947c617cfe4a5c8d2dcc', 'cdcd8f911a06c3024e8e55c0d30fb289', 'e3113f2d26ecb431c4f22a90c24661f9', 'aa634bb9a3d6124ee7495e0500206c92', 'fcdb9f075e9626f71a0e8338d1cee151', '6c68660d8dea41ba647a6d5ecd5a1782', 'de91e85c89c17cb5e21b4c782e7efe0b', 'e2589e7934f6ca44f6f0adc721cdd6bb', 'eb32c9596e7a87a1b6dce2940f88ce5e', 'ecfea071ea1120092cb4232a24ade62a', 'eff6942ab8061d3a17ef7dca3ba728f3', '0e03a6e736ed511b964c7f99fad35f11', '6c68660d8dea41ba647a6d5ecd5a1782', '771e0bb53821a3afb59ca9de35c4dde9', 'd0451b0a227f6c0b0c1693d20f2d4d45', 'eff6942ab8061d3a17ef7dca3ba728f3', '4b09c40f6184e278f6f47588c936341f', '565b86eb09287597d626fca43f61fd6d', '5801036163dbac1be93de149b86be85b', '6771cdd90de070f60e6049283f1ea5cd', 'bdef5aba144db2f8ef2561725422dbdf', 'cf6fa9a5f7ed1be2d4b8b9cfb2c9554f', '565b86eb09287597d626fca43f61fd6d', '5801036163dbac1be93de149b86be85b', '6771cdd90de070f60e6049283f1ea5cd', 'db27b008542ad1c6164cae8f39f2c951', 'ecfea071ea1120092cb4232a24ade62a', '740ee6798fff782d2b8559e1e18bc8fd', '87d561d2a657ed2f056808fab1e28bd2', 'dee24ff7594e79cd4aa0b56d875b96f8', '0371f667f1dd79b9e39b1ad62c5fef2b', '341e1e484a0726eec5627468b75b425c', '359dab2feb170e3f19ea34a129b00ba4', '63464dc05a76d6840da443c10f904be4', '740ee6798fff782d2b8559e1e18bc8fd', 'dee24ff7594e79cd4aa0b56d875b96f8', '0e03a6e736ed511b964c7f99fad35f11', '2e6cc6d3f2a7c8a389e72f208bace7b1', 'e3113f2d26ecb431c4f22a90c24661f9', '1b00746d4fae4a3d1fc84900f333f861', '2e6cc6d3f2a7c8a389e72f208bace7b1', '3a073fd69c8a43fcef719bd1be46c232', '19086abbe28a64250134f1e1aa151e69', '2e6cc6d3f2a7c8a389e72f208bace7b1', '3a073fd69c8a43fcef719bd1be46c232', '9857f704fd6e2441a171230df8665dd7', 'd6bd1420db3002dcf5a9f93b1788a8c1', 'feb546278de702c08cea8f102ce84665', '3ad7927bb90934fff71e6a265d60d5e9', '53424eaa71947d0bac956ba7e5d27f8e', '8b61653f1fae0a00dcc5b9a2caed5671', 'ca3dab926a7fd55389de8dc0bbc84edc', 'e3d0eb5e2bd3da08cd2fc7ce235ee161', 'f5657ed1a6a53d2a4c5aa3e76ea73c62', '3ad7927bb90934fff71e6a265d60d5e9', '6adecf2276045d68d351c0abe68215c3', 'aa323e015fdd51ff85914d48bb251ca6', 'e17841b36fd8533edfa60633f6251de2', 'e3d0eb5e2bd3da08cd2fc7ce235ee161', 'f98bb8614e1309a924b5a94c3cdbe10c', '0c02c9d9094641efd99ab242507bf3e2', '6086cef5fe7c3c25451dbafa2b002c23', 'a41abc9fe6aee91457b0caa703aa08e9', '1a4fc0e6bf97bfd032edd430793c4ba4', '864cca9720220b63f82b4865a600ca48', '8de6cd69f4131a5cee2208bba33fbbc1', 'b408cca3d74cdfccea40925f28a98db1', 'd0451b0a227f6c0b0c1693d20f2d4d45', 'd6bd1420db3002dcf5a9f93b1788a8c1', '72aaf8a110ea68853d1b01f01091e329', '7a33ee043c6d20e0931e28f921ef3a6e', 'f7192389dad1afb3245db00b3bef8530', '59128985514bc5e4eb28cc7d8daedf98', '72aaf8a110ea68853d1b01f01091e329', '7a33ee043c6d20e0931e28f921ef3a6e', 'd6bd1420db3002dcf5a9f93b1788a8c1', 'f98bb8614e1309a924b5a94c3cdbe10c', 'fba5401a89d4ef13c9de50cfb5fcdf6d', '2abb04c60849f6178b09ad834c9972be', '3b98e2f2db51dcf25e20250f2909fd96', 'a41abc9fe6aee91457b0caa703aa08e9', 'b408cca3d74cdfccea40925f28a98db1', 'cdcd8f911a06c3024e8e55c0d30fb289', 'db600144448a6d8546e32d6747cac956', '2f40976a4dab58b22ddd95ba89297b5f', '3b98e2f2db51dcf25e20250f2909fd96', 'b408cca3d74cdfccea40925f28a98db1', 'bdef5aba144db2f8ef2561725422dbdf', 'cdcd8f911a06c3024e8e55c0d30fb289', 'db600144448a6d8546e32d6747cac956', 'defe3735f6d0a2bcbba12f4481d13f01', 'ecfea071ea1120092cb4232a24ade62a', 'f480c6237455ab88fd33a226fb9d8335', '2f40976a4dab58b22ddd95ba89297b5f', '5df9abc596b3ae6f64e368fdaf054324', '97ff71bde3a1ad3d69cf12ea3353226b', '99f817bb19829cd1379868d456966818', 'bdef5aba144db2f8ef2561725422dbdf', 'db27b008542ad1c6164cae8f39f2c951', 'db600144448a6d8546e32d6747cac956', 'defe3735f6d0a2bcbba12f4481d13f01', 'ecfea071ea1120092cb4232a24ade62a', 'f480c6237455ab88fd33a226fb9d8335', '1b00746d4fae4a3d1fc84900f333f861', '99f817bb19829cd1379868d456966818', 'bdef5aba144db2f8ef2561725422dbdf', 'defe3735f6d0a2bcbba12f4481d13f01', 'ecfea071ea1120092cb4232a24ade62a', 'f480c6237455ab88fd33a226fb9d8335', '2f40976a4dab58b22ddd95ba89297b5f', '45a46a264b2a436246bd1011c75efb59', '62eb4360c58ef89510a10f2b7e904de2', '99f817bb19829cd1379868d456966818', 'a41abc9fe6aee91457b0caa703aa08e9', 'bdef5aba144db2f8ef2561725422dbdf', 'db27b008542ad1c6164cae8f39f2c951', 'defe3735f6d0a2bcbba12f4481d13f01', 'ecfea071ea1120092cb4232a24ade62a', 'f480c6237455ab88fd33a226fb9d8335', '59128985514bc5e4eb28cc7d8daedf98', '757aa950293a92557f465f1639c90b4e', '9e4220185f5f23117c165d46fb659154', 'a41abc9fe6aee91457b0caa703aa08e9', 'd6ea36dbdef1101b55759614aeff5a9d', '0f083ecade675a490633b5c3a5863774', '2e6cc6d3f2a7c8a389e72f208bace7b1', '4e957d4156b1d9020b6a2f7d6c30ca76', '5b0f70d876906e25611595173f19ac0a', '7a33ee043c6d20e0931e28f921ef3a6e', 'b9d43a16517d7a3e1852f861b769c924', '2f40976a4dab58b22ddd95ba89297b5f', 'a41abc9fe6aee91457b0caa703aa08e9', 'bdef5aba144db2f8ef2561725422dbdf', 'db27b008542ad1c6164cae8f39f2c951', 'defe3735f6d0a2bcbba12f4481d13f01', 'ecfea071ea1120092cb4232a24ade62a', '38935277bdfea2a7bad838323b8015f2', '6086cef5fe7c3c25451dbafa2b002c23', '985389f97c6b02168d00dc891ab6f5be', 'ab283e8867f676f28235fadc50bf714d', 'db27b008542ad1c6164cae8f39f2c951', 'dd5616a079be768b704a71d65af9949d', 'e09768ce9040db99c103c2fa15ddc1ad', 'e17841b36fd8533edfa60633f6251de2', '2f40976a4dab58b22ddd95ba89297b5f', '9857f704fd6e2441a171230df8665dd7', 'db27b008542ad1c6164cae8f39f2c951', 'defe3735f6d0a2bcbba12f4481d13f01', 'ecfea071ea1120092cb4232a24ade62a', '0f083ecade675a490633b5c3a5863774', 'b9d43a16517d7a3e1852f861b769c924', '565b86eb09287597d626fca43f61fd6d', '5801036163dbac1be93de149b86be85b', '6771cdd90de070f60e6049283f1ea5cd', '7eb771d5effa7507cd735d2c256f582f', 'cf6fa9a5f7ed1be2d4b8b9cfb2c9554f', '7a33ee043c6d20e0931e28f921ef3a6e', 'fba5401a89d4ef13c9de50cfb5fcdf6d', 'feb546278de702c08cea8f102ce84665', '72aaf8a110ea68853d1b01f01091e329', '7a33ee043c6d20e0931e28f921ef3a6e', 'db600144448a6d8546e32d6747cac956', 'fba5401a89d4ef13c9de50cfb5fcdf6d', '012b8325f8eeb48a04570707ce7b5a6e', '341e1e484a0726eec5627468b75b425c', '49449f9559f5c191c054a0e770d37a7b', 'e2589e7934f6ca44f6f0adc721cdd6bb', 'f98bb8614e1309a924b5a94c3cdbe10c', 'fcdb9f075e9626f71a0e8338d1cee151', '3a2c252218996300349265b7967d6dd7', '5df9abc596b3ae6f64e368fdaf054324', '63464dc05a76d6840da443c10f904be4', '6c68660d8dea41ba647a6d5ecd5a1782', '97ff71bde3a1ad3d69cf12ea3353226b', '9857f704fd6e2441a171230df8665dd7', 'b9d43a16517d7a3e1852f861b769c924', '3a2c252218996300349265b7967d6dd7', '9857f704fd6e2441a171230df8665dd7', 'cf6fa9a5f7ed1be2d4b8b9cfb2c9554f', '1b00746d4fae4a3d1fc84900f333f861', '6c68660d8dea41ba647a6d5ecd5a1782', 'b9d43a16517d7a3e1852f861b769c924', '80bd7f283b91dcae608e2e4997bfbbf3', '9857f704fd6e2441a171230df8665dd7', 'd6bd1420db3002dcf5a9f93b1788a8c1', '19086abbe28a64250134f1e1aa151e69', '1a904643c40b968da7d051046d703091', '565b86eb09287597d626fca43f61fd6d', '5801036163dbac1be93de149b86be85b', '6771cdd90de070f60e6049283f1ea5cd', '7a33ee043c6d20e0931e28f921ef3a6e', '7eb771d5effa7507cd735d2c256f582f', 'cf6fa9a5f7ed1be2d4b8b9cfb2c9554f', '565b86eb09287597d626fca43f61fd6d', 'cf6fa9a5f7ed1be2d4b8b9cfb2c9554f', 'dee24ff7594e79cd4aa0b56d875b96f8', '1a626416cc943ba2518fbcddcb9cfa91', '3a2c252218996300349265b7967d6dd7', '5df9abc596b3ae6f64e368fdaf054324', '97ff71bde3a1ad3d69cf12ea3353226b', 'cf6fa9a5f7ed1be2d4b8b9cfb2c9554f', 'defe3735f6d0a2bcbba12f4481d13f01', 'feb546278de702c08cea8f102ce84665', '051ac4a5ea310815e88e66e7dbf27c00', '0e03a6e736ed511b964c7f99fad35f11', '41ac8a228991ec8a4072dbed8fb2135f', '5801036163dbac1be93de149b86be85b', 'a1884094967bc76c7fc560cac0418b1d', 'ab283e8867f676f28235fadc50bf714d', 'b408cca3d74cdfccea40925f28a98db1', 'd0451b0a227f6c0b0c1693d20f2d4d45', 'd6bd1420db3002dcf5a9f93b1788a8c1', 'eb32c9596e7a87a1b6dce2940f88ce5e', 'f8290dedac2c4037ebe6386cdd27cb36', '2e6cc6d3f2a7c8a389e72f208bace7b1', 'defe3735f6d0a2bcbba12f4481d13f01', 'e3113f2d26ecb431c4f22a90c24661f9', '1f5775415e3a680e19dce7cdf834ef4a', '80bd7f283b91dcae608e2e4997bfbbf3', '86f1501054c96e6fee0ac4a4c0ee3977', 'a9a2a9910280b149f031fe5e777e83a7', 'e9c70333d62742cd12f2642e6ff719c3', '1a904643c40b968da7d051046d703091', '565b86eb09287597d626fca43f61fd6d', '5801036163dbac1be93de149b86be85b', '6771cdd90de070f60e6049283f1ea5cd', 'a71118b9c052db1dc4563cc9ea442c4d', 'c86226743702e66a184fec3d643d30c5', '341e1e484a0726eec5627468b75b425c', '359dab2feb170e3f19ea34a129b00ba4', '49449f9559f5c191c054a0e770d37a7b', '8fd9d6644c09d605fd39a0444db93dcd', '9f0921ced40850c109b9ba7b6acd10ed', 'f5657ed1a6a53d2a4c5aa3e76ea73c62']\n"
          ],
          "name": "stdout"
        }
      ]
    },
    {
      "metadata": {
        "id": "b32sWPM1-dHM",
        "colab_type": "code",
        "colab": {
          "autoexec": {
            "startup": false,
            "wait_interval": 0
          },
          "output_extras": [
            {}
          ],
          "base_uri": "https://localhost:8080/",
          "height": 34
        },
        "outputId": "e4fa19f0-8427-415b-abe3-82ab47c5be8a",
        "executionInfo": {
          "status": "ok",
          "timestamp": 1512147095043,
          "user_tz": 360,
          "elapsed": 1225,
          "user": {
            "displayName": "Varun Sriram",
            "photoUrl": "//lh6.googleusercontent.com/-tIN8hlhcFmw/AAAAAAAAAAI/AAAAAAAAD5w/M4upxS3Lpqc/s50-c-k-no/photo.jpg",
            "userId": "108107051038009566542"
          }
        }
      },
      "source": [
        "import sys\n",
        "import os\n",
        "import json\n",
        "from watson_developer_cloud import DiscoveryV1\n",
        "\n",
        "discovery = DiscoveryV1(\n",
        "  username=\"224da301-5fd4-4b39-a4a7-24f061fbe5b4\",\n",
        "  password=\"5eETUXiEQNPA\",\n",
        "  version=\"2017-11-07\"\n",
        ")\n",
        "'''\n",
        "count = 0\n",
        "with open('output.txt', 'w') as file:\n",
        "  for line in lines:\n",
        "    doc_info = discovery.get_document_status('0030b8f7-85f9-43bc-88c3-8b8b876b93bb', '560bb01e-033b-432e-af92-3d91530ec592', line)\n",
        "    out = json.dumps(doc_info[\"document_id\"]+\",\"+doc_info[\"status\"])\n",
        "    print(str(count) +  \" \" + out)\n",
        "    count+=1\n",
        "    file.write(out)\n",
        "    file.write('\\n')\n",
        "'''\n",
        "qopts = {'query': 'shipping '}\n",
        "my_query = discovery.query('0030b8f7-85f9-43bc-88c3-8b8b876b93bb', '560bb01e-033b-432e-af92-3d91530ec592', qopts)\n",
        "print(json.dumps(my_query))"
      ],
      "cell_type": "code",
      "execution_count": 0,
      "outputs": [
        {
          "output_type": "stream",
          "text": [
            "{\"matching_results\": 0, \"results\": []}\n"
          ],
          "name": "stdout"
        }
      ]
    },
    {
      "metadata": {
        "id": "UJp8c4EsAMxQ",
        "colab_type": "code",
        "colab": {
          "autoexec": {
            "startup": false,
            "wait_interval": 0
          }
        }
      },
      "source": [
        "files.download(\"output.txt\")"
      ],
      "cell_type": "code",
      "execution_count": 0,
      "outputs": []
    }
  ]
}