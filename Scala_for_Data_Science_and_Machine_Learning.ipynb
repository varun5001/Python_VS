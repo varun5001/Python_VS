{
  "nbformat": 4,
  "nbformat_minor": 0,
  "metadata": {
    "colab": {
      "name": "Scala for Data Science and Machine Learning.ipynb",
      "provenance": [],
      "collapsed_sections": [],
      "toc_visible": true,
      "include_colab_link": true
    },
    "kernelspec": {
      "display_name": "Scala",
      "language": "scala",
      "name": "scala"
    }
  },
  "cells": [
    {
      "cell_type": "markdown",
      "metadata": {
        "id": "view-in-github",
        "colab_type": "text"
      },
      "source": [
        "<a href=\"https://colab.research.google.com/github/varun5001/Python_VS/blob/scala_colab/Scala_for_Data_Science_and_Machine_Learning.ipynb\" target=\"_parent\"><img src=\"https://colab.research.google.com/assets/colab-badge.svg\" alt=\"Open In Colab\"/></a>"
      ]
    },
    {
      "cell_type": "markdown",
      "metadata": {
        "id": "up2G8zDbhsEN",
        "colab_type": "text"
      },
      "source": [
        "# Data Science and Machine Learning with Scala and Spark (Episode 01/03)\n",
        "In this tutorial, we will learn data science and machine learning with scala. \n",
        "\n",
        "> SCALA is functional and objecte oriented progarmming running with JVM with aim to be scalable hence name as SCALA.\n",
        "\n",
        "Spark is written in scala which makes scala a native choice for processing big data. We will also cover the basic of using scala with spark and machine learning using spark and scala. \n",
        "\n",
        "Key Objectives\n",
        "\n",
        "1. Install Scala to work with Google Colab\n",
        "2. Introduction and basics of Scala\n",
        "3. Scala for Data Science\n",
        "4. Scala with Spark Introduction\n",
        "5. Machine Learning with Scala\n",
        "\n",
        "Above is the bigger scope of this tutorial. The aim is to provide a working google colab notebook for all above sections\n"
      ]
    },
    {
      "cell_type": "markdown",
      "metadata": {
        "id": "sL1Vq6r6J6dA",
        "colab_type": "text"
      },
      "source": [
        "# 1. Install the Scala Kernel on Google Colab\n",
        "\n",
        "I followed the tutorial [Machine Learning with Scala in Google Colaboratory](https://medium.com/@shadaj/machine-learning-with-scala-in-google-colaboratory-e6f1661f1c88) by [Shadad Laddad](https://medium.com/@shadaj) to start Scala kernel in the google colab.\n",
        "\n",
        "If you get a \"scala\" kernel not recognized warning when loading up the notebook for the first time, start by running the two cells below. Once you are done **reload the page** to load the notebook in the installed Scala kernel."
      ]
    },
    {
      "cell_type": "code",
      "metadata": {
        "id": "RoCcdvTCAqeR",
        "colab_type": "code",
        "colab": {}
      },
      "source": [
        "%%shell\n",
        "SCALA_VERSION=2.12.8 ALMOND_VERSION=0.3.0+16-548dc10f-SNAPSHOT\n",
        "curl -Lo coursier https://git.io/coursier-cli\n",
        "chmod +x coursier\n",
        "./coursier bootstrap \\\n",
        "    -r jitpack -r sonatype:snapshots \\\n",
        "    -i user -I user:sh.almond:scala-kernel-api_$SCALA_VERSION:$ALMOND_VERSION \\\n",
        "    sh.almond:scala-kernel_$SCALA_VERSION:$ALMOND_VERSION \\\n",
        "    --sources --default=true \\\n",
        "    -o almond-snapshot --embed-files=false\n",
        "rm coursier\n",
        "./almond-snapshot --install --global --force\n",
        "rm almond-snapshot"
      ],
      "execution_count": null,
      "outputs": []
    },
    {
      "cell_type": "code",
      "metadata": {
        "id": "BZchIo9sArF4",
        "colab_type": "code",
        "colab": {}
      },
      "source": [
        "%%shell\n",
        "echo \"{\n",
        "  \\\"language\\\" : \\\"scala\\\",\n",
        "  \\\"display_name\\\" : \\\"Scala\\\",\n",
        "  \\\"argv\\\" : [\n",
        "    \\\"bash\\\",\n",
        "    \\\"-c\\\",\n",
        "    \\\"env LD_PRELOAD=/usr/lib/x86_64-linux-gnu/libpython3.6m.so:\\$LD_PRELOAD java -jar /usr/local/share/jupyter/kernels/scala/launcher.jar --connection-file {connection_file}\\\"\n",
        "  ]\n",
        "}\" > /usr/local/share/jupyter/kernels/scala/kernel.json"
      ],
      "execution_count": null,
      "outputs": []
    },
    {
      "cell_type": "markdown",
      "metadata": {
        "id": "kQe78pN0OSuq",
        "colab_type": "text"
      },
      "source": [
        "## Hello World!\n",
        "\n",
        "Lets check if the scala is working or not. if it does not work refresh the page."
      ]
    },
    {
      "cell_type": "code",
      "metadata": {
        "id": "a9z0PxRg_iOp",
        "colab_type": "code",
        "colab": {
          "base_uri": "https://localhost:8080/",
          "height": 33
        },
        "outputId": "589ec16b-f183-4725-da3b-26f18840953d"
      },
      "source": [
        "println(\"Hello, world!\")"
      ],
      "execution_count": null,
      "outputs": [
        {
          "output_type": "stream",
          "text": [
            "Hello, world!\n"
          ],
          "name": "stdout"
        }
      ]
    },
    {
      "cell_type": "markdown",
      "metadata": {
        "id": "n1xiPW3oZ9Ey",
        "colab_type": "text"
      },
      "source": [
        "# Introduction to Scala\n",
        "In this section, we give some overview of basics of Scala programming, data types, function and sclasses. This is quick hands on tutorial of going through few examples based on the the course [Scala Essential Training for Data Science](https://www.lynda.com/Scala-tutorials/Scala-Essential-Training-Data-Science/559182-2.html). I am not going to write the details descriptions of commands.\n",
        "\n",
        "These the below sections covered.\n",
        "\n",
        "1. Data Types\n",
        "2. Scala Expressions\n",
        "3. Scala Functions\n",
        "4. Scala Classes/Objects\n",
        "4. Scala Parrallel Processing\n",
        "\n",
        "* I assume some basic knowledge of at least one programming languange. "
      ]
    },
    {
      "cell_type": "markdown",
      "metadata": {
        "id": "Lq2L8GQC5QJc",
        "colab_type": "text"
      },
      "source": [
        "## Data Types\n",
        "\n",
        "Since, I am coming from Python back ground, typecasting is usually ignored in python however Scala required you to specify the data type of variables hence making more sense of understanding the data types implemented in Scala. Below are the most basic data types covered in above course.\n",
        "\n",
        "\n",
        "1. **Scala Data Types:** Int , Char, Float, Double, Long, Short, Boolean\n",
        "\n",
        "2. **Scala Collections :** Arrays , Vectors\n",
        "\n",
        "3. **Scala Maps :** Key value pairs\n",
        "\n",
        "You can practice these types using below sample codes.\n",
        "\n",
        "```\n",
        "# This is formatted as code\n",
        "```\n",
        "\n",
        "\n"
      ]
    },
    {
      "cell_type": "markdown",
      "metadata": {
        "id": "lS0tOcHF5QHE",
        "colab_type": "text"
      },
      "source": [
        "### Scala Data Types"
      ]
    },
    {
      "cell_type": "code",
      "metadata": {
        "id": "WtG8dly_Z8IC",
        "colab_type": "code",
        "colab": {
          "base_uri": "https://localhost:8080/",
          "height": 33
        },
        "outputId": "c7b6f7bd-6f85-4c92-863a-90cedcc907df"
      },
      "source": [
        "// define int variable\n",
        "var a_int:Int=3"
      ],
      "execution_count": null,
      "outputs": [
        {
          "output_type": "execute_result",
          "data": {
            "text/plain": [
              "\u001b[36ma_int\u001b[39m: \u001b[32mInt\u001b[39m = \u001b[32m3\u001b[39m"
            ]
          },
          "metadata": {
            "tags": []
          },
          "execution_count": 4
        }
      ]
    },
    {
      "cell_type": "code",
      "metadata": {
        "id": "e1V4BLDhauhs",
        "colab_type": "code",
        "colab": {
          "base_uri": "https://localhost:8080/",
          "height": 33
        },
        "outputId": "843b936f-3654-46a6-d70b-3b1bfedac0b9"
      },
      "source": [
        "var a_char: Char = 'd'"
      ],
      "execution_count": null,
      "outputs": [
        {
          "output_type": "execute_result",
          "data": {
            "text/plain": [
              "\u001b[36ma_char\u001b[39m: \u001b[32mChar\u001b[39m = \u001b[32m'd'\u001b[39m"
            ]
          },
          "metadata": {
            "tags": []
          },
          "execution_count": 6
        }
      ]
    },
    {
      "cell_type": "code",
      "metadata": {
        "id": "dM7uMS-Ka_SE",
        "colab_type": "code",
        "colab": {
          "base_uri": "https://localhost:8080/",
          "height": 33
        },
        "outputId": "46691f0c-1895-4156-f106-cce74740e18a"
      },
      "source": [
        "var a_long: Long = 832569\n"
      ],
      "execution_count": null,
      "outputs": [
        {
          "output_type": "execute_result",
          "data": {
            "text/plain": [
              "\u001b[36ma_long\u001b[39m: \u001b[32mLong\u001b[39m = \u001b[32m832569L\u001b[39m"
            ]
          },
          "metadata": {
            "tags": []
          },
          "execution_count": 7
        }
      ]
    },
    {
      "cell_type": "code",
      "metadata": {
        "id": "Cskx3K4SbInF",
        "colab_type": "code",
        "colab": {
          "base_uri": "https://localhost:8080/",
          "height": 33
        },
        "outputId": "a4ca13f1-e2c7-4a57-bcf0-d2c2acbd47a9"
      },
      "source": [
        "var b_char = 'c'"
      ],
      "execution_count": null,
      "outputs": [
        {
          "output_type": "execute_result",
          "data": {
            "text/plain": [
              "\u001b[36mb_char\u001b[39m: \u001b[32mChar\u001b[39m = \u001b[32m'c'\u001b[39m"
            ]
          },
          "metadata": {
            "tags": []
          },
          "execution_count": 8
        }
      ]
    },
    {
      "cell_type": "code",
      "metadata": {
        "id": "ipcpsy4NbNZL",
        "colab_type": "code",
        "colab": {
          "base_uri": "https://localhost:8080/",
          "height": 163
        },
        "outputId": "98fca345-e8ee-4124-d669-514e0f32abc8"
      },
      "source": [
        "var b_long = 8345679489l"
      ],
      "execution_count": null,
      "outputs": [
        {
          "output_type": "stream",
          "text": [
            "(console):1: integer number too large\n",
            "var b_long = 8345679489\n",
            "             ^"
          ],
          "name": "stderr"
        },
        {
          "output_type": "error",
          "ename": "",
          "evalue": "ignored",
          "traceback": [
            "(console):1: integer number too large\nvar b_long = 8345679489\n             ^"
          ]
        }
      ]
    },
    {
      "cell_type": "code",
      "metadata": {
        "id": "mKGEDzBKbTq3",
        "colab_type": "code",
        "colab": {
          "base_uri": "https://localhost:8080/",
          "height": 33
        },
        "outputId": "1b298b18-7167-46b1-fe95-ffbee91b4b4a"
      },
      "source": [
        "var b_long = 8345679489l"
      ],
      "execution_count": null,
      "outputs": [
        {
          "output_type": "execute_result",
          "data": {
            "text/plain": [
              "\u001b[36mb_long\u001b[39m: \u001b[32mLong\u001b[39m = \u001b[32m8345679489L\u001b[39m"
            ]
          },
          "metadata": {
            "tags": []
          },
          "execution_count": 9
        }
      ]
    },
    {
      "cell_type": "code",
      "metadata": {
        "id": "tmmWk663bXKm",
        "colab_type": "code",
        "colab": {
          "base_uri": "https://localhost:8080/",
          "height": 33
        },
        "outputId": "b599ea5f-718a-48e7-deb5-987649a4ca0f"
      },
      "source": [
        "var c_float=1.2345"
      ],
      "execution_count": null,
      "outputs": [
        {
          "output_type": "execute_result",
          "data": {
            "text/plain": [
              "\u001b[36mc_float\u001b[39m: \u001b[32mDouble\u001b[39m = \u001b[32m1.2345\u001b[39m"
            ]
          },
          "metadata": {
            "tags": []
          },
          "execution_count": 10
        }
      ]
    },
    {
      "cell_type": "code",
      "metadata": {
        "id": "-LKprBKkbae4",
        "colab_type": "code",
        "colab": {
          "base_uri": "https://localhost:8080/",
          "height": 33
        },
        "outputId": "1bd5dcd7-6e5c-4855-e780-9f2ac7ec19d6"
      },
      "source": [
        "var c_float = 1.21356f"
      ],
      "execution_count": null,
      "outputs": [
        {
          "output_type": "execute_result",
          "data": {
            "text/plain": [
              "\u001b[36mc_float\u001b[39m: \u001b[32mFloat\u001b[39m = \u001b[32m1.21356F\u001b[39m"
            ]
          },
          "metadata": {
            "tags": []
          },
          "execution_count": 11
        }
      ]
    },
    {
      "cell_type": "code",
      "metadata": {
        "id": "sSh-mlT4bekv",
        "colab_type": "code",
        "colab": {
          "base_uri": "https://localhost:8080/",
          "height": 33
        },
        "outputId": "937e5156-c015-4467-de3f-c38d84c48544"
      },
      "source": [
        "val z=8321569l"
      ],
      "execution_count": null,
      "outputs": [
        {
          "output_type": "execute_result",
          "data": {
            "text/plain": [
              "\u001b[36mz\u001b[39m: \u001b[32mLong\u001b[39m = \u001b[32m8321569L\u001b[39m"
            ]
          },
          "metadata": {
            "tags": []
          },
          "execution_count": 12
        }
      ]
    },
    {
      "cell_type": "markdown",
      "metadata": {
        "id": "-jCHhhLkbm8p",
        "colab_type": "text"
      },
      "source": [
        "### Scala Collections"
      ]
    },
    {
      "cell_type": "code",
      "metadata": {
        "id": "0KpVxjITbkUI",
        "colab_type": "code",
        "colab": {
          "base_uri": "https://localhost:8080/",
          "height": 33
        },
        "outputId": "b5420405-a596-4323-adb2-095ec81b2af0"
      },
      "source": [
        "val temps= Array(50,51,56,53,40)"
      ],
      "execution_count": null,
      "outputs": [
        {
          "output_type": "execute_result",
          "data": {
            "text/plain": [
              "\u001b[36mtemps\u001b[39m: \u001b[32mArray\u001b[39m[\u001b[32mInt\u001b[39m] = \u001b[33mArray\u001b[39m(\u001b[32m50\u001b[39m, \u001b[32m51\u001b[39m, \u001b[32m56\u001b[39m, \u001b[32m53\u001b[39m, \u001b[32m40\u001b[39m)"
            ]
          },
          "metadata": {
            "tags": []
          },
          "execution_count": 13
        }
      ]
    },
    {
      "cell_type": "code",
      "metadata": {
        "id": "9cGgTJ-gb9a1",
        "colab_type": "code",
        "colab": {
          "base_uri": "https://localhost:8080/",
          "height": 33
        },
        "outputId": "eff9b900-37ca-4df2-f99a-be6ba8f8af4f"
      },
      "source": [
        "temps(1)"
      ],
      "execution_count": null,
      "outputs": [
        {
          "output_type": "execute_result",
          "data": {
            "text/plain": [
              "\u001b[36mres13\u001b[39m: \u001b[32mInt\u001b[39m = \u001b[32m51\u001b[39m"
            ]
          },
          "metadata": {
            "tags": []
          },
          "execution_count": 14
        }
      ]
    },
    {
      "cell_type": "code",
      "metadata": {
        "id": "B61S6WKKb-3h",
        "colab_type": "code",
        "colab": {
          "base_uri": "https://localhost:8080/",
          "height": 33
        },
        "outputId": "36ecf2e6-e765-4d5d-f266-8211e2bac843"
      },
      "source": [
        "temps(0)"
      ],
      "execution_count": null,
      "outputs": [
        {
          "output_type": "execute_result",
          "data": {
            "text/plain": [
              "\u001b[36mres14\u001b[39m: \u001b[32mInt\u001b[39m = \u001b[32m50\u001b[39m"
            ]
          },
          "metadata": {
            "tags": []
          },
          "execution_count": 15
        }
      ]
    },
    {
      "cell_type": "code",
      "metadata": {
        "id": "OCgfoPWwcB0h",
        "colab_type": "code",
        "colab": {
          "base_uri": "https://localhost:8080/",
          "height": 33
        },
        "outputId": "eee4dcf5-8cfb-47ac-fc73-3e00674613e5"
      },
      "source": [
        "temps.length"
      ],
      "execution_count": null,
      "outputs": [
        {
          "output_type": "execute_result",
          "data": {
            "text/plain": [
              "\u001b[36mres15\u001b[39m: \u001b[32mInt\u001b[39m = \u001b[32m5\u001b[39m"
            ]
          },
          "metadata": {
            "tags": []
          },
          "execution_count": 16
        }
      ]
    },
    {
      "cell_type": "code",
      "metadata": {
        "id": "_sVwALlMcGvk",
        "colab_type": "code",
        "colab": {
          "base_uri": "https://localhost:8080/",
          "height": 33
        },
        "outputId": "9caae377-1d80-4c59-c976-3bfdf9081246"
      },
      "source": [
        "val temps2: Array[Int]=new Array[Int](10)"
      ],
      "execution_count": null,
      "outputs": [
        {
          "output_type": "execute_result",
          "data": {
            "text/plain": [
              "\u001b[36mtemps2\u001b[39m: \u001b[32mArray\u001b[39m[\u001b[32mInt\u001b[39m] = \u001b[33mArray\u001b[39m(\u001b[32m0\u001b[39m, \u001b[32m0\u001b[39m, \u001b[32m0\u001b[39m, \u001b[32m0\u001b[39m, \u001b[32m0\u001b[39m, \u001b[32m0\u001b[39m, \u001b[32m0\u001b[39m, \u001b[32m0\u001b[39m, \u001b[32m0\u001b[39m, \u001b[32m0\u001b[39m)"
            ]
          },
          "metadata": {
            "tags": []
          },
          "execution_count": 17
        }
      ]
    },
    {
      "cell_type": "code",
      "metadata": {
        "id": "RNkefr1PcVhE",
        "colab_type": "code",
        "colab": {
          "base_uri": "https://localhost:8080/",
          "height": 216
        },
        "outputId": "4165583e-3ffc-4843-cac8-68638d9b14bb"
      },
      "source": [
        "val temps3 = Array.ofDim[Int](10,10)"
      ],
      "execution_count": null,
      "outputs": [
        {
          "output_type": "execute_result",
          "data": {
            "text/plain": [
              "\u001b[36mtemps3\u001b[39m: \u001b[32mArray\u001b[39m[\u001b[32mArray\u001b[39m[\u001b[32mInt\u001b[39m]] = \u001b[33mArray\u001b[39m(\n",
              "  \u001b[33mArray\u001b[39m(\u001b[32m0\u001b[39m, \u001b[32m0\u001b[39m, \u001b[32m0\u001b[39m, \u001b[32m0\u001b[39m, \u001b[32m0\u001b[39m, \u001b[32m0\u001b[39m, \u001b[32m0\u001b[39m, \u001b[32m0\u001b[39m, \u001b[32m0\u001b[39m, \u001b[32m0\u001b[39m),\n",
              "  \u001b[33mArray\u001b[39m(\u001b[32m0\u001b[39m, \u001b[32m0\u001b[39m, \u001b[32m0\u001b[39m, \u001b[32m0\u001b[39m, \u001b[32m0\u001b[39m, \u001b[32m0\u001b[39m, \u001b[32m0\u001b[39m, \u001b[32m0\u001b[39m, \u001b[32m0\u001b[39m, \u001b[32m0\u001b[39m),\n",
              "  \u001b[33mArray\u001b[39m(\u001b[32m0\u001b[39m, \u001b[32m0\u001b[39m, \u001b[32m0\u001b[39m, \u001b[32m0\u001b[39m, \u001b[32m0\u001b[39m, \u001b[32m0\u001b[39m, \u001b[32m0\u001b[39m, \u001b[32m0\u001b[39m, \u001b[32m0\u001b[39m, \u001b[32m0\u001b[39m),\n",
              "  \u001b[33mArray\u001b[39m(\u001b[32m0\u001b[39m, \u001b[32m0\u001b[39m, \u001b[32m0\u001b[39m, \u001b[32m0\u001b[39m, \u001b[32m0\u001b[39m, \u001b[32m0\u001b[39m, \u001b[32m0\u001b[39m, \u001b[32m0\u001b[39m, \u001b[32m0\u001b[39m, \u001b[32m0\u001b[39m),\n",
              "  \u001b[33mArray\u001b[39m(\u001b[32m0\u001b[39m, \u001b[32m0\u001b[39m, \u001b[32m0\u001b[39m, \u001b[32m0\u001b[39m, \u001b[32m0\u001b[39m, \u001b[32m0\u001b[39m, \u001b[32m0\u001b[39m, \u001b[32m0\u001b[39m, \u001b[32m0\u001b[39m, \u001b[32m0\u001b[39m),\n",
              "  \u001b[33mArray\u001b[39m(\u001b[32m0\u001b[39m, \u001b[32m0\u001b[39m, \u001b[32m0\u001b[39m, \u001b[32m0\u001b[39m, \u001b[32m0\u001b[39m, \u001b[32m0\u001b[39m, \u001b[32m0\u001b[39m, \u001b[32m0\u001b[39m, \u001b[32m0\u001b[39m, \u001b[32m0\u001b[39m),\n",
              "  \u001b[33mArray\u001b[39m(\u001b[32m0\u001b[39m, \u001b[32m0\u001b[39m, \u001b[32m0\u001b[39m, \u001b[32m0\u001b[39m, \u001b[32m0\u001b[39m, \u001b[32m0\u001b[39m, \u001b[32m0\u001b[39m, \u001b[32m0\u001b[39m, \u001b[32m0\u001b[39m, \u001b[32m0\u001b[39m),\n",
              "  \u001b[33mArray\u001b[39m(\u001b[32m0\u001b[39m, \u001b[32m0\u001b[39m, \u001b[32m0\u001b[39m, \u001b[32m0\u001b[39m, \u001b[32m0\u001b[39m, \u001b[32m0\u001b[39m, \u001b[32m0\u001b[39m, \u001b[32m0\u001b[39m, \u001b[32m0\u001b[39m, \u001b[32m0\u001b[39m),\n",
              "  \u001b[33mArray\u001b[39m(\u001b[32m0\u001b[39m, \u001b[32m0\u001b[39m, \u001b[32m0\u001b[39m, \u001b[32m0\u001b[39m, \u001b[32m0\u001b[39m, \u001b[32m0\u001b[39m, \u001b[32m0\u001b[39m, \u001b[32m0\u001b[39m, \u001b[32m0\u001b[39m, \u001b[32m0\u001b[39m),\n",
              "  \u001b[33mArray\u001b[39m(\u001b[32m0\u001b[39m, \u001b[32m0\u001b[39m, \u001b[32m0\u001b[39m, \u001b[32m0\u001b[39m, \u001b[32m0\u001b[39m, \u001b[32m0\u001b[39m, \u001b[32m0\u001b[39m, \u001b[32m0\u001b[39m, \u001b[32m0\u001b[39m, \u001b[32m0\u001b[39m)\n",
              ")"
            ]
          },
          "metadata": {
            "tags": []
          },
          "execution_count": 18
        }
      ]
    },
    {
      "cell_type": "code",
      "metadata": {
        "id": "9dOnTSuJchTE",
        "colab_type": "code",
        "colab": {
          "base_uri": "https://localhost:8080/",
          "height": 33
        },
        "outputId": "61da20dc-57e9-4e0b-acec-f41506e2b647"
      },
      "source": [
        "import Array._"
      ],
      "execution_count": null,
      "outputs": [
        {
          "output_type": "execute_result",
          "data": {
            "text/plain": [
              "\u001b[32mimport \u001b[39m\u001b[36mArray._\u001b[39m"
            ]
          },
          "metadata": {
            "tags": []
          },
          "execution_count": 19
        }
      ]
    },
    {
      "cell_type": "code",
      "metadata": {
        "id": "SLm4jiypcoHG",
        "colab_type": "code",
        "colab": {
          "base_uri": "https://localhost:8080/",
          "height": 33
        },
        "outputId": "aa1d4eeb-61cf-4227-9f93-3142fbc455b1"
      },
      "source": [
        "concat(temps, temps2)"
      ],
      "execution_count": null,
      "outputs": [
        {
          "output_type": "execute_result",
          "data": {
            "text/plain": [
              "\u001b[36mres19\u001b[39m: \u001b[32mArray\u001b[39m[\u001b[32mInt\u001b[39m] = \u001b[33mArray\u001b[39m(\u001b[32m50\u001b[39m, \u001b[32m51\u001b[39m, \u001b[32m56\u001b[39m, \u001b[32m53\u001b[39m, \u001b[32m40\u001b[39m, \u001b[32m0\u001b[39m, \u001b[32m0\u001b[39m, \u001b[32m0\u001b[39m, \u001b[32m0\u001b[39m, \u001b[32m0\u001b[39m, \u001b[32m0\u001b[39m, \u001b[32m0\u001b[39m, \u001b[32m0\u001b[39m, \u001b[32m0\u001b[39m, \u001b[32m0\u001b[39m)"
            ]
          },
          "metadata": {
            "tags": []
          },
          "execution_count": 20
        }
      ]
    },
    {
      "cell_type": "code",
      "metadata": {
        "id": "cdYDpeoucu2F",
        "colab_type": "code",
        "colab": {}
      },
      "source": [
        "temps. "
      ],
      "execution_count": null,
      "outputs": []
    },
    {
      "cell_type": "code",
      "metadata": {
        "id": "NXwt6kjMc60V",
        "colab_type": "code",
        "colab": {
          "base_uri": "https://localhost:8080/",
          "height": 33
        },
        "outputId": "dccb744b-f3df-40a0-8fd1-86b0c1c6ddb0"
      },
      "source": [
        "val vec1: Vector[Int] = Vector(1,2,3,4,5,6,7,8,9,10)"
      ],
      "execution_count": null,
      "outputs": [
        {
          "output_type": "execute_result",
          "data": {
            "text/plain": [
              "\u001b[36mvec1\u001b[39m: \u001b[32mVector\u001b[39m[\u001b[32mInt\u001b[39m] = \u001b[33mVector\u001b[39m(\u001b[32m1\u001b[39m, \u001b[32m2\u001b[39m, \u001b[32m3\u001b[39m, \u001b[32m4\u001b[39m, \u001b[32m5\u001b[39m, \u001b[32m6\u001b[39m, \u001b[32m7\u001b[39m, \u001b[32m8\u001b[39m, \u001b[32m9\u001b[39m, \u001b[32m10\u001b[39m)"
            ]
          },
          "metadata": {
            "tags": []
          },
          "execution_count": 21
        }
      ]
    },
    {
      "cell_type": "code",
      "metadata": {
        "id": "hsZ7-jHndDKk",
        "colab_type": "code",
        "colab": {
          "base_uri": "https://localhost:8080/",
          "height": 33
        },
        "outputId": "12260faf-886f-4de7-fa71-117a9a7db652"
      },
      "source": [
        "vec1(0)"
      ],
      "execution_count": null,
      "outputs": [
        {
          "output_type": "execute_result",
          "data": {
            "text/plain": [
              "\u001b[36mres22\u001b[39m: \u001b[32mInt\u001b[39m = \u001b[32m1\u001b[39m"
            ]
          },
          "metadata": {
            "tags": []
          },
          "execution_count": 23
        }
      ]
    },
    {
      "cell_type": "code",
      "metadata": {
        "id": "2b5YOHKCdM--",
        "colab_type": "code",
        "colab": {
          "base_uri": "https://localhost:8080/",
          "height": 33
        },
        "outputId": "b0d10ee8-c134-4ef9-a400-d99ea8ef8978"
      },
      "source": [
        "val myrange = 1 to 10"
      ],
      "execution_count": null,
      "outputs": [
        {
          "output_type": "execute_result",
          "data": {
            "text/plain": [
              "\u001b[36mmyrange\u001b[39m: \u001b[32mRange\u001b[39m.\u001b[32mInclusive\u001b[39m = \u001b[33mRange.Inclusive\u001b[39m(\u001b[32m1\u001b[39m, \u001b[32m2\u001b[39m, \u001b[32m3\u001b[39m, \u001b[32m4\u001b[39m, \u001b[32m5\u001b[39m, \u001b[32m6\u001b[39m, \u001b[32m7\u001b[39m, \u001b[32m8\u001b[39m, \u001b[32m9\u001b[39m, \u001b[32m10\u001b[39m)"
            ]
          },
          "metadata": {
            "tags": []
          },
          "execution_count": 2
        }
      ]
    },
    {
      "cell_type": "code",
      "metadata": {
        "id": "m1b0pXJmdWAx",
        "colab_type": "code",
        "colab": {
          "base_uri": "https://localhost:8080/",
          "height": 683
        },
        "outputId": "7b334678-488b-4cb3-e5e7-4f3763c49ad2"
      },
      "source": [
        "val myRange2 : Range  = new Range(1, 100, 2) "
      ],
      "execution_count": null,
      "outputs": [
        {
          "output_type": "execute_result",
          "data": {
            "text/plain": [
              "\u001b[36mmyRange2\u001b[39m: \u001b[32mRange\u001b[39m = \u001b[33mRange\u001b[39m(\n",
              "  \u001b[32m1\u001b[39m,\n",
              "  \u001b[32m3\u001b[39m,\n",
              "  \u001b[32m5\u001b[39m,\n",
              "  \u001b[32m7\u001b[39m,\n",
              "  \u001b[32m9\u001b[39m,\n",
              "  \u001b[32m11\u001b[39m,\n",
              "  \u001b[32m13\u001b[39m,\n",
              "  \u001b[32m15\u001b[39m,\n",
              "  \u001b[32m17\u001b[39m,\n",
              "  \u001b[32m19\u001b[39m,\n",
              "  \u001b[32m21\u001b[39m,\n",
              "  \u001b[32m23\u001b[39m,\n",
              "  \u001b[32m25\u001b[39m,\n",
              "  \u001b[32m27\u001b[39m,\n",
              "  \u001b[32m29\u001b[39m,\n",
              "  \u001b[32m31\u001b[39m,\n",
              "  \u001b[32m33\u001b[39m,\n",
              "  \u001b[32m35\u001b[39m,\n",
              "  \u001b[32m37\u001b[39m,\n",
              "  \u001b[32m39\u001b[39m,\n",
              "  \u001b[32m41\u001b[39m,\n",
              "  \u001b[32m43\u001b[39m,\n",
              "  \u001b[32m45\u001b[39m,\n",
              "  \u001b[32m47\u001b[39m,\n",
              "  \u001b[32m49\u001b[39m,\n",
              "  \u001b[32m51\u001b[39m,\n",
              "  \u001b[32m53\u001b[39m,\n",
              "  \u001b[32m55\u001b[39m,\n",
              "  \u001b[32m57\u001b[39m,\n",
              "  \u001b[32m59\u001b[39m,\n",
              "  \u001b[32m61\u001b[39m,\n",
              "  \u001b[32m63\u001b[39m,\n",
              "  \u001b[32m65\u001b[39m,\n",
              "  \u001b[32m67\u001b[39m,\n",
              "  \u001b[32m69\u001b[39m,\n",
              "  \u001b[32m71\u001b[39m,\n",
              "  \u001b[32m73\u001b[39m,\n",
              "  \u001b[32m75\u001b[39m,\n",
              "..."
            ]
          },
          "metadata": {
            "tags": []
          },
          "execution_count": 3
        }
      ]
    },
    {
      "cell_type": "markdown",
      "metadata": {
        "id": "mLqfUBhUoqC5",
        "colab_type": "text"
      },
      "source": [
        "### Scala maps"
      ]
    },
    {
      "cell_type": "code",
      "metadata": {
        "id": "HbPTuzQodj0v",
        "colab_type": "code",
        "colab": {
          "base_uri": "https://localhost:8080/",
          "height": 150
        },
        "outputId": "12239e93-893d-4943-be53-d2534cfa5143"
      },
      "source": [
        "val capitals= Map(\"Argentina\" -> \"Buenos Aires\", \"Canada\" -> \"Ottowa\", \"Egypt\" -> \"Cairo\", \"Liberia\" -> \"Monrovia\", \"Netherland\" -> \"Amstradam\", \"United Stats\"->\"Washinghton D.C\")"
      ],
      "execution_count": null,
      "outputs": [
        {
          "output_type": "execute_result",
          "data": {
            "text/plain": [
              "\u001b[36mcapitals\u001b[39m: \u001b[32mMap\u001b[39m[\u001b[32mString\u001b[39m, \u001b[32mString\u001b[39m] = \u001b[33mMap\u001b[39m(\n",
              "  \u001b[32m\"Argentina\"\u001b[39m -> \u001b[32m\"Buenos Aires\"\u001b[39m,\n",
              "  \u001b[32m\"Egypt\"\u001b[39m -> \u001b[32m\"Cairo\"\u001b[39m,\n",
              "  \u001b[32m\"Canada\"\u001b[39m -> \u001b[32m\"Ottowa\"\u001b[39m,\n",
              "  \u001b[32m\"Liberia\"\u001b[39m -> \u001b[32m\"Monrovia\"\u001b[39m,\n",
              "  \u001b[32m\"Netherland\"\u001b[39m -> \u001b[32m\"Amstradam\"\u001b[39m,\n",
              "  \u001b[32m\"United Stats\"\u001b[39m -> \u001b[32m\"Washinghton D.C\"\u001b[39m\n",
              ")"
            ]
          },
          "metadata": {
            "tags": []
          },
          "execution_count": 11
        }
      ]
    },
    {
      "cell_type": "code",
      "metadata": {
        "id": "Sp9k7RcOpfaD",
        "colab_type": "code",
        "colab": {
          "base_uri": "https://localhost:8080/",
          "height": 150
        },
        "outputId": "c29a7e2e-d015-4b0d-b947-f0940ec3127c"
      },
      "source": [
        "capitals.keys"
      ],
      "execution_count": null,
      "outputs": [
        {
          "output_type": "execute_result",
          "data": {
            "text/plain": [
              "\u001b[36mres5\u001b[39m: \u001b[32mIterable\u001b[39m[\u001b[32mString\u001b[39m] = \u001b[33mSet\u001b[39m(\n",
              "  \u001b[32m\"Argentina\"\u001b[39m,\n",
              "  \u001b[32m\"Egypt\"\u001b[39m,\n",
              "  \u001b[32m\"Liberia\"\u001b[39m,\n",
              "  \u001b[32m\"Cananda\"\u001b[39m,\n",
              "  \u001b[32m\"Netherland\"\u001b[39m,\n",
              "  \u001b[32m\"United Stats\"\u001b[39m\n",
              ")"
            ]
          },
          "metadata": {
            "tags": []
          },
          "execution_count": 6
        }
      ]
    },
    {
      "cell_type": "code",
      "metadata": {
        "id": "AS4yFTLipsQk",
        "colab_type": "code",
        "colab": {
          "base_uri": "https://localhost:8080/",
          "height": 150
        },
        "outputId": "e7e4fea9-012c-486f-c65f-36d80fdd4e6d"
      },
      "source": [
        "capitals.values"
      ],
      "execution_count": null,
      "outputs": [
        {
          "output_type": "execute_result",
          "data": {
            "text/plain": [
              "\u001b[36mres7\u001b[39m: \u001b[32mIterable\u001b[39m[\u001b[32mString\u001b[39m] = \u001b[33mMapLike.DefaultValuesIterable\u001b[39m(\n",
              "  \u001b[32m\"Buenos Aires\"\u001b[39m,\n",
              "  \u001b[32m\"Cairo\"\u001b[39m,\n",
              "  \u001b[32m\"Monrovia\"\u001b[39m,\n",
              "  \u001b[32m\"Ottowa\"\u001b[39m,\n",
              "  \u001b[32m\"Amstradam\"\u001b[39m,\n",
              "  \u001b[32m\"Washinghton D.C\"\u001b[39m\n",
              ")"
            ]
          },
          "metadata": {
            "tags": []
          },
          "execution_count": 8
        }
      ]
    },
    {
      "cell_type": "code",
      "metadata": {
        "id": "wkC43ZLep3k_",
        "colab_type": "code",
        "colab": {
          "base_uri": "https://localhost:8080/",
          "height": 33
        },
        "outputId": "e9143c25-05c8-4a32-c321-e2350683f9f7"
      },
      "source": [
        "capitals get \"United States\""
      ],
      "execution_count": null,
      "outputs": [
        {
          "output_type": "execute_result",
          "data": {
            "text/plain": [
              "\u001b[36mres8\u001b[39m: \u001b[32mOption\u001b[39m[\u001b[32mString\u001b[39m] = \u001b[32mNone\u001b[39m"
            ]
          },
          "metadata": {
            "tags": []
          },
          "execution_count": 9
        }
      ]
    },
    {
      "cell_type": "code",
      "metadata": {
        "id": "z4YlWe6XqBEX",
        "colab_type": "code",
        "colab": {
          "base_uri": "https://localhost:8080/",
          "height": 33
        },
        "outputId": "797f225d-edec-4f91-ab3c-4f5f0387865c"
      },
      "source": [
        "capitals(\"Canada\")"
      ],
      "execution_count": null,
      "outputs": [
        {
          "output_type": "execute_result",
          "data": {
            "text/plain": [
              "\u001b[36mres11\u001b[39m: \u001b[32mString\u001b[39m = \u001b[32m\"Ottowa\"\u001b[39m"
            ]
          },
          "metadata": {
            "tags": []
          },
          "execution_count": 12
        }
      ]
    },
    {
      "cell_type": "code",
      "metadata": {
        "id": "SLp6QBYqqIdv",
        "colab_type": "code",
        "colab": {
          "base_uri": "https://localhost:8080/",
          "height": 33
        },
        "outputId": "14b1f4c5-a10e-45c4-9b71-b0b1f5ed23ab"
      },
      "source": [
        "capitals contains \"Egypt\""
      ],
      "execution_count": null,
      "outputs": [
        {
          "output_type": "execute_result",
          "data": {
            "text/plain": [
              "\u001b[36mres12\u001b[39m: \u001b[32mBoolean\u001b[39m = true"
            ]
          },
          "metadata": {
            "tags": []
          },
          "execution_count": 13
        }
      ]
    },
    {
      "cell_type": "code",
      "metadata": {
        "id": "jZqirBLJqVRY",
        "colab_type": "code",
        "colab": {
          "base_uri": "https://localhost:8080/",
          "height": 33
        },
        "outputId": "8524f640-c864-463f-f1cd-829e14d2b232"
      },
      "source": [
        "capitals getOrElse(\"China\", \"No capital found\")"
      ],
      "execution_count": null,
      "outputs": [
        {
          "output_type": "execute_result",
          "data": {
            "text/plain": [
              "\u001b[36mres13\u001b[39m: \u001b[32mString\u001b[39m = \u001b[32m\"No capital found\"\u001b[39m"
            ]
          },
          "metadata": {
            "tags": []
          },
          "execution_count": 14
        }
      ]
    },
    {
      "cell_type": "code",
      "metadata": {
        "id": "cXVP_PJwqi6e",
        "colab_type": "code",
        "colab": {
          "base_uri": "https://localhost:8080/",
          "height": 166
        },
        "outputId": "bde40a62-ea63-4c03-855c-cd5c7faf5c60"
      },
      "source": [
        "capitals+ (\"Ireland\"->\"Dublin\")"
      ],
      "execution_count": null,
      "outputs": [
        {
          "output_type": "execute_result",
          "data": {
            "text/plain": [
              "\u001b[36mres14\u001b[39m: \u001b[32mMap\u001b[39m[\u001b[32mString\u001b[39m, \u001b[32mString\u001b[39m] = \u001b[33mMap\u001b[39m(\n",
              "  \u001b[32m\"Argentina\"\u001b[39m -> \u001b[32m\"Buenos Aires\"\u001b[39m,\n",
              "  \u001b[32m\"Egypt\"\u001b[39m -> \u001b[32m\"Cairo\"\u001b[39m,\n",
              "  \u001b[32m\"Canada\"\u001b[39m -> \u001b[32m\"Ottowa\"\u001b[39m,\n",
              "  \u001b[32m\"Liberia\"\u001b[39m -> \u001b[32m\"Monrovia\"\u001b[39m,\n",
              "  \u001b[32m\"Ireland\"\u001b[39m -> \u001b[32m\"Dublin\"\u001b[39m,\n",
              "  \u001b[32m\"Netherland\"\u001b[39m -> \u001b[32m\"Amstradam\"\u001b[39m,\n",
              "  \u001b[32m\"United Stats\"\u001b[39m -> \u001b[32m\"Washinghton D.C\"\u001b[39m\n",
              ")"
            ]
          },
          "metadata": {
            "tags": []
          },
          "execution_count": 15
        }
      ]
    },
    {
      "cell_type": "code",
      "metadata": {
        "id": "gas1srl-qvEK",
        "colab_type": "code",
        "colab": {
          "base_uri": "https://localhost:8080/",
          "height": 133
        },
        "outputId": "ee917321-e6e4-4938-e7d3-03aa8966ef2d"
      },
      "source": [
        "capitals - \"Liberia\""
      ],
      "execution_count": null,
      "outputs": [
        {
          "output_type": "execute_result",
          "data": {
            "text/plain": [
              "\u001b[36mres15\u001b[39m: \u001b[32mMap\u001b[39m[\u001b[32mString\u001b[39m, \u001b[32mString\u001b[39m] = \u001b[33mMap\u001b[39m(\n",
              "  \u001b[32m\"Argentina\"\u001b[39m -> \u001b[32m\"Buenos Aires\"\u001b[39m,\n",
              "  \u001b[32m\"Egypt\"\u001b[39m -> \u001b[32m\"Cairo\"\u001b[39m,\n",
              "  \u001b[32m\"Canada\"\u001b[39m -> \u001b[32m\"Ottowa\"\u001b[39m,\n",
              "  \u001b[32m\"Netherland\"\u001b[39m -> \u001b[32m\"Amstradam\"\u001b[39m,\n",
              "  \u001b[32m\"United Stats\"\u001b[39m -> \u001b[32m\"Washinghton D.C\"\u001b[39m\n",
              ")"
            ]
          },
          "metadata": {
            "tags": []
          },
          "execution_count": 16
        }
      ]
    },
    {
      "cell_type": "markdown",
      "metadata": {
        "id": "rGJZ_hLTrub5",
        "colab_type": "text"
      },
      "source": [
        "## Scala Expressions\n",
        "\n",
        "As with other languages, Scala expressions follow the similar approach with numerical, boolean and ligical expressions. Follow below lines of codes to practice some of the most commonly used expressions.\n",
        "\n"
      ]
    },
    {
      "cell_type": "code",
      "metadata": {
        "id": "pQj7e4_Iq3eK",
        "colab_type": "code",
        "colab": {
          "base_uri": "https://localhost:8080/",
          "height": 33
        },
        "outputId": "791fd8d1-98b4-4298-ce65-a459bbc552ce"
      },
      "source": [
        "2+2"
      ],
      "execution_count": null,
      "outputs": [
        {
          "output_type": "execute_result",
          "data": {
            "text/plain": [
              "\u001b[36mres16\u001b[39m: \u001b[32mInt\u001b[39m = \u001b[32m4\u001b[39m"
            ]
          },
          "metadata": {
            "tags": []
          },
          "execution_count": 17
        }
      ]
    },
    {
      "cell_type": "code",
      "metadata": {
        "id": "ZXXppLb7sHp_",
        "colab_type": "code",
        "colab": {
          "base_uri": "https://localhost:8080/",
          "height": 33
        },
        "outputId": "9e4633b6-0c87-48d0-ca98-5204cf415391"
      },
      "source": [
        "5-6"
      ],
      "execution_count": null,
      "outputs": [
        {
          "output_type": "execute_result",
          "data": {
            "text/plain": [
              "\u001b[36mres17\u001b[39m: \u001b[32mInt\u001b[39m = \u001b[32m-1\u001b[39m"
            ]
          },
          "metadata": {
            "tags": []
          },
          "execution_count": 18
        }
      ]
    },
    {
      "cell_type": "code",
      "metadata": {
        "id": "JKwkHJg0sIyp",
        "colab_type": "code",
        "colab": {
          "base_uri": "https://localhost:8080/",
          "height": 33
        },
        "outputId": "4b2c1eb6-8a47-4307-9476-fb8337cc1370"
      },
      "source": [
        "4*6"
      ],
      "execution_count": null,
      "outputs": [
        {
          "output_type": "execute_result",
          "data": {
            "text/plain": [
              "\u001b[36mres18\u001b[39m: \u001b[32mInt\u001b[39m = \u001b[32m24\u001b[39m"
            ]
          },
          "metadata": {
            "tags": []
          },
          "execution_count": 19
        }
      ]
    },
    {
      "cell_type": "code",
      "metadata": {
        "id": "QWUsB9D5sKBZ",
        "colab_type": "code",
        "colab": {
          "base_uri": "https://localhost:8080/",
          "height": 33
        },
        "outputId": "caac1d0b-f26f-4fcc-c6c0-fa4004c3d490"
      },
      "source": [
        "33/4"
      ],
      "execution_count": null,
      "outputs": [
        {
          "output_type": "execute_result",
          "data": {
            "text/plain": [
              "\u001b[36mres19\u001b[39m: \u001b[32mInt\u001b[39m = \u001b[32m8\u001b[39m"
            ]
          },
          "metadata": {
            "tags": []
          },
          "execution_count": 20
        }
      ]
    },
    {
      "cell_type": "code",
      "metadata": {
        "id": "8z_Kff4csLVo",
        "colab_type": "code",
        "colab": {
          "base_uri": "https://localhost:8080/",
          "height": 33
        },
        "outputId": "9d2ca743-88db-42fb-d44b-21d3a82d2c15"
      },
      "source": [
        "33%6"
      ],
      "execution_count": null,
      "outputs": [
        {
          "output_type": "execute_result",
          "data": {
            "text/plain": [
              "\u001b[36mres20\u001b[39m: \u001b[32mInt\u001b[39m = \u001b[32m3\u001b[39m"
            ]
          },
          "metadata": {
            "tags": []
          },
          "execution_count": 21
        }
      ]
    },
    {
      "cell_type": "code",
      "metadata": {
        "id": "jbrm_qYgsNGb",
        "colab_type": "code",
        "colab": {
          "base_uri": "https://localhost:8080/",
          "height": 33
        },
        "outputId": "246b340b-01e7-4dfa-8be1-71af843f98d7"
      },
      "source": [
        "3>4"
      ],
      "execution_count": null,
      "outputs": [
        {
          "output_type": "execute_result",
          "data": {
            "text/plain": [
              "\u001b[36mres21\u001b[39m: \u001b[32mBoolean\u001b[39m = false"
            ]
          },
          "metadata": {
            "tags": []
          },
          "execution_count": 22
        }
      ]
    },
    {
      "cell_type": "code",
      "metadata": {
        "id": "l91KdmhysObg",
        "colab_type": "code",
        "colab": {
          "base_uri": "https://localhost:8080/",
          "height": 33
        },
        "outputId": "18f41843-f3e6-4169-e6e9-a5026fa476f8"
      },
      "source": [
        "6==9"
      ],
      "execution_count": null,
      "outputs": [
        {
          "output_type": "execute_result",
          "data": {
            "text/plain": [
              "\u001b[36mres22\u001b[39m: \u001b[32mBoolean\u001b[39m = false"
            ]
          },
          "metadata": {
            "tags": []
          },
          "execution_count": 23
        }
      ]
    },
    {
      "cell_type": "code",
      "metadata": {
        "id": "g67DB26dsQLB",
        "colab_type": "code",
        "colab": {
          "base_uri": "https://localhost:8080/",
          "height": 33
        },
        "outputId": "0ab52aa3-7afb-4b24-a0fa-35a1cb20b163"
      },
      "source": [
        "(3>4) &(5<=10)"
      ],
      "execution_count": null,
      "outputs": [
        {
          "output_type": "execute_result",
          "data": {
            "text/plain": [
              "\u001b[36mres23\u001b[39m: \u001b[32mBoolean\u001b[39m = false"
            ]
          },
          "metadata": {
            "tags": []
          },
          "execution_count": 24
        }
      ]
    },
    {
      "cell_type": "code",
      "metadata": {
        "id": "eJ6_JDagsTTm",
        "colab_type": "code",
        "colab": {
          "base_uri": "https://localhost:8080/",
          "height": 33
        },
        "outputId": "eb84ae24-838c-4a3c-eeba-45bd7896ee9e"
      },
      "source": [
        "(3>4)  || (5<=10)"
      ],
      "execution_count": null,
      "outputs": [
        {
          "output_type": "execute_result",
          "data": {
            "text/plain": [
              "\u001b[36mres24\u001b[39m: \u001b[32mBoolean\u001b[39m = true"
            ]
          },
          "metadata": {
            "tags": []
          },
          "execution_count": 25
        }
      ]
    },
    {
      "cell_type": "code",
      "metadata": {
        "id": "eiADP8e1sWJa",
        "colab_type": "code",
        "colab": {
          "base_uri": "https://localhost:8080/",
          "height": 130
        },
        "outputId": "01b66203-f384-4282-ea69-3150d3555df7"
      },
      "source": [
        "~(3>4) &(5<=10)"
      ],
      "execution_count": null,
      "outputs": [
        {
          "output_type": "stream",
          "text": [
            "cmd27.sc:1: value unary_~ is not a member of Boolean\n",
            "val res27 = ~(3>4) &(5<=10)\n",
            "            ^Compilation Failed"
          ],
          "name": "stderr"
        },
        {
          "output_type": "error",
          "ename": "",
          "evalue": "ignored",
          "traceback": [
            "Compilation Failed"
          ]
        }
      ]
    },
    {
      "cell_type": "code",
      "metadata": {
        "id": "OFzQnAGGsYkS",
        "colab_type": "code",
        "colab": {
          "base_uri": "https://localhost:8080/",
          "height": 66
        },
        "outputId": "ae510c27-36ab-4109-b4fc-eeb8a0416648"
      },
      "source": [
        "var a : Int = 6\n",
        "var b : Int = 10\n",
        "var c : Int = 41"
      ],
      "execution_count": null,
      "outputs": [
        {
          "output_type": "execute_result",
          "data": {
            "text/plain": [
              "\u001b[36ma\u001b[39m: \u001b[32mInt\u001b[39m = \u001b[32m6\u001b[39m\n",
              "\u001b[36mb\u001b[39m: \u001b[32mInt\u001b[39m = \u001b[32m10\u001b[39m\n",
              "\u001b[36mc\u001b[39m: \u001b[32mInt\u001b[39m = \u001b[32m41\u001b[39m"
            ]
          },
          "metadata": {
            "tags": []
          },
          "execution_count": 28
        }
      ]
    },
    {
      "cell_type": "code",
      "metadata": {
        "id": "2jA-wgvssn2O",
        "colab_type": "code",
        "colab": {
          "base_uri": "https://localhost:8080/",
          "height": 33
        },
        "outputId": "2e3366fc-0e3b-4b2c-979d-bf6e40a50176"
      },
      "source": [
        "var d = a + c"
      ],
      "execution_count": null,
      "outputs": [
        {
          "output_type": "execute_result",
          "data": {
            "text/plain": [
              "\u001b[36md\u001b[39m: \u001b[32mInt\u001b[39m = \u001b[32m47\u001b[39m"
            ]
          },
          "metadata": {
            "tags": []
          },
          "execution_count": 29
        }
      ]
    },
    {
      "cell_type": "code",
      "metadata": {
        "id": "21MRH4bzspsI",
        "colab_type": "code",
        "colab": {}
      },
      "source": [
        "a+=b"
      ],
      "execution_count": null,
      "outputs": []
    },
    {
      "cell_type": "code",
      "metadata": {
        "id": "gDLZIV8fszIX",
        "colab_type": "code",
        "colab": {
          "base_uri": "https://localhost:8080/",
          "height": 33
        },
        "outputId": "e0d843ef-7b5e-4932-b42c-8085baff101b"
      },
      "source": [
        "a"
      ],
      "execution_count": null,
      "outputs": [
        {
          "output_type": "execute_result",
          "data": {
            "text/plain": [
              "\u001b[36mres30\u001b[39m: \u001b[32mInt\u001b[39m = \u001b[32m16\u001b[39m"
            ]
          },
          "metadata": {
            "tags": []
          },
          "execution_count": 31
        }
      ]
    },
    {
      "cell_type": "code",
      "metadata": {
        "id": "jtFQ12vps1PJ",
        "colab_type": "code",
        "colab": {}
      },
      "source": [
        "c *= a"
      ],
      "execution_count": null,
      "outputs": []
    },
    {
      "cell_type": "code",
      "metadata": {
        "id": "yJUiKfAQs6U4",
        "colab_type": "code",
        "colab": {
          "base_uri": "https://localhost:8080/",
          "height": 33
        },
        "outputId": "97e5dcc6-5467-49ed-c7a6-83e8827d7c7e"
      },
      "source": [
        "c"
      ],
      "execution_count": null,
      "outputs": [
        {
          "output_type": "execute_result",
          "data": {
            "text/plain": [
              "\u001b[36mres32\u001b[39m: \u001b[32mInt\u001b[39m = \u001b[32m656\u001b[39m"
            ]
          },
          "metadata": {
            "tags": []
          },
          "execution_count": 33
        }
      ]
    },
    {
      "cell_type": "code",
      "metadata": {
        "id": "zVlvI2z8s8lR",
        "colab_type": "code",
        "colab": {
          "base_uri": "https://localhost:8080/",
          "height": 33
        },
        "outputId": "e4a7c571-263d-43fc-e8c2-3028f24d5c19"
      },
      "source": [
        "println({\n",
        "val a = 2 * 3\n",
        "a + 4\n",
        "})"
      ],
      "execution_count": null,
      "outputs": [
        {
          "output_type": "stream",
          "text": [
            "10\n"
          ],
          "name": "stdout"
        }
      ]
    },
    {
      "cell_type": "code",
      "metadata": {
        "id": "jUiUuk78tJfu",
        "colab_type": "code",
        "colab": {
          "base_uri": "https://localhost:8080/",
          "height": 33
        },
        "outputId": "00561eeb-870e-4f80-d575-bb339caf1cbf"
      },
      "source": [
        "println({\n",
        "  val a = 2*3\n",
        "  a+4\n",
        "})"
      ],
      "execution_count": null,
      "outputs": [
        {
          "output_type": "stream",
          "text": [
            "10\n"
          ],
          "name": "stdout"
        }
      ]
    },
    {
      "cell_type": "markdown",
      "metadata": {
        "id": "tozzNiUWt9iQ",
        "colab_type": "text"
      },
      "source": [
        "## Scala Functions\n",
        "\n",
        "Scala is an objected oriented programming languange  and you can write functions pretty much following the same style. Below are some of the examples to practice writing functions in Scala.\n"
      ]
    },
    {
      "cell_type": "code",
      "metadata": {
        "id": "dGdchi_1tzxm",
        "colab_type": "code",
        "colab": {
          "base_uri": "https://localhost:8080/",
          "height": 33
        },
        "outputId": "6e0288f2-789b-4f6a-8ede-a8bb64b35c1a"
      },
      "source": [
        "def myFunction(a:Int, b:Int): Int = {\n",
        "  val c = a*b\n",
        "  return c\n",
        "}"
      ],
      "execution_count": null,
      "outputs": [
        {
          "output_type": "execute_result",
          "data": {
            "text/plain": [
              "defined \u001b[32mfunction\u001b[39m \u001b[36mmyFunction\u001b[39m"
            ]
          },
          "metadata": {
            "tags": []
          },
          "execution_count": 36
        }
      ]
    },
    {
      "cell_type": "code",
      "metadata": {
        "id": "VdvbdeVvuOev",
        "colab_type": "code",
        "colab": {
          "base_uri": "https://localhost:8080/",
          "height": 33
        },
        "outputId": "fb854aae-fde3-4b89-8a9a-927ad95e075e"
      },
      "source": [
        "myFunction(2,4)"
      ],
      "execution_count": null,
      "outputs": [
        {
          "output_type": "execute_result",
          "data": {
            "text/plain": [
              "\u001b[36mres36\u001b[39m: \u001b[32mInt\u001b[39m = \u001b[32m8\u001b[39m"
            ]
          },
          "metadata": {
            "tags": []
          },
          "execution_count": 37
        }
      ]
    },
    {
      "cell_type": "code",
      "metadata": {
        "id": "6uoKCaDCuRVJ",
        "colab_type": "code",
        "colab": {
          "base_uri": "https://localhost:8080/",
          "height": 33
        },
        "outputId": "0e3e7372-6fa1-4fe0-abf7-3d7567ee36bc"
      },
      "source": [
        "def myProcedure(inStr: String) : Unit ={\n",
        "  println(inStr)\n",
        "}"
      ],
      "execution_count": null,
      "outputs": [
        {
          "output_type": "execute_result",
          "data": {
            "text/plain": [
              "defined \u001b[32mfunction\u001b[39m \u001b[36mmyProcedure\u001b[39m"
            ]
          },
          "metadata": {
            "tags": []
          },
          "execution_count": 38
        }
      ]
    },
    {
      "cell_type": "code",
      "metadata": {
        "id": "d439XLOPufh5",
        "colab_type": "code",
        "colab": {
          "base_uri": "https://localhost:8080/",
          "height": 33
        },
        "outputId": "0b149ae9-304a-47c6-ddf4-0daa36683304"
      },
      "source": [
        "myProcedure(\"Log it as a test message\")"
      ],
      "execution_count": null,
      "outputs": [
        {
          "output_type": "stream",
          "text": [
            "Log it as a test message\n"
          ],
          "name": "stdout"
        }
      ]
    },
    {
      "cell_type": "markdown",
      "metadata": {
        "id": "SsJkK5_XuypG",
        "colab_type": "text"
      },
      "source": [
        "## Scala Classes and Objects\n",
        "\n",
        "Working with big data and complex code structures, classes make things simpler for programmers. Like other languages, you can write classes in Scala. Below are some examples."
      ]
    },
    {
      "cell_type": "code",
      "metadata": {
        "id": "RbrL0ZyzuktE",
        "colab_type": "code",
        "colab": {
          "base_uri": "https://localhost:8080/",
          "height": 33
        },
        "outputId": "20dd7489-a09c-46ae-e0fb-274249087d0b"
      },
      "source": [
        "val y = Array(\"England\", \"Liberia\", \"Haiti\", \"Austrailia\", \"Sweden\" )"
      ],
      "execution_count": null,
      "outputs": [
        {
          "output_type": "execute_result",
          "data": {
            "text/plain": [
              "\u001b[36my\u001b[39m: \u001b[32mArray\u001b[39m[\u001b[32mString\u001b[39m] = \u001b[33mArray\u001b[39m(\u001b[32m\"England\"\u001b[39m, \u001b[32m\"Liberia\"\u001b[39m, \u001b[32m\"Haiti\"\u001b[39m, \u001b[32m\"Austrailia\"\u001b[39m, \u001b[32m\"Sweden\"\u001b[39m)"
            ]
          },
          "metadata": {
            "tags": []
          },
          "execution_count": 41
        }
      ]
    },
    {
      "cell_type": "code",
      "metadata": {
        "id": "8nPgiWvBvH0N",
        "colab_type": "code",
        "colab": {
          "base_uri": "https://localhost:8080/",
          "height": 133
        },
        "outputId": "a7c76398-bb3d-4c6b-e9f5-7540829a5bf5"
      },
      "source": [
        "y.sorted"
      ],
      "execution_count": null,
      "outputs": [
        {
          "output_type": "execute_result",
          "data": {
            "text/plain": [
              "\u001b[36mres41\u001b[39m: \u001b[32mArray\u001b[39m[\u001b[32mString\u001b[39m] = \u001b[33mArray\u001b[39m(\n",
              "  \u001b[32m\"Austrailia\"\u001b[39m,\n",
              "  \u001b[32m\"England\"\u001b[39m,\n",
              "  \u001b[32m\"Haiti\"\u001b[39m,\n",
              "  \u001b[32m\"Liberia\"\u001b[39m,\n",
              "  \u001b[32m\"Sweden\"\u001b[39m\n",
              ")"
            ]
          },
          "metadata": {
            "tags": []
          },
          "execution_count": 42
        }
      ]
    },
    {
      "cell_type": "code",
      "metadata": {
        "id": "5ExEoudevJ7W",
        "colab_type": "code",
        "colab": {
          "base_uri": "https://localhost:8080/",
          "height": 33
        },
        "outputId": "fde68be3-f062-4d2b-aa82-e49e9dd4848f"
      },
      "source": [
        "class location(var latitude:Int, var lat_direction:Char, var longitude:Int, var long_direction:Char, var altitude:Int)"
      ],
      "execution_count": null,
      "outputs": [
        {
          "output_type": "execute_result",
          "data": {
            "text/plain": [
              "defined \u001b[32mclass\u001b[39m \u001b[36mlocation\u001b[39m"
            ]
          },
          "metadata": {
            "tags": []
          },
          "execution_count": 43
        }
      ]
    },
    {
      "cell_type": "code",
      "metadata": {
        "id": "8C9TTsmFvwU6",
        "colab_type": "code",
        "colab": {
          "base_uri": "https://localhost:8080/",
          "height": 33
        },
        "outputId": "32e39686-345b-4e78-9c2c-c2e289b62f39"
      },
      "source": [
        "val loc1 = new location(45, 'N', 10, 'W', 300)"
      ],
      "execution_count": null,
      "outputs": [
        {
          "output_type": "execute_result",
          "data": {
            "text/plain": [
              "\u001b[36mloc1\u001b[39m: \u001b[32mlocation\u001b[39m = ammonite.$sess.cmd42$Helper$location@39023d48"
            ]
          },
          "metadata": {
            "tags": []
          },
          "execution_count": 44
        }
      ]
    },
    {
      "cell_type": "code",
      "metadata": {
        "id": "TVu8nF1dv_Nl",
        "colab_type": "code",
        "colab": {
          "base_uri": "https://localhost:8080/",
          "height": 33
        },
        "outputId": "9adf27ff-aa8a-4294-8b5e-ffa6977c59fb"
      },
      "source": [
        "loc1.altitude"
      ],
      "execution_count": null,
      "outputs": [
        {
          "output_type": "execute_result",
          "data": {
            "text/plain": [
              "\u001b[36mres44\u001b[39m: \u001b[32mInt\u001b[39m = \u001b[32m300\u001b[39m"
            ]
          },
          "metadata": {
            "tags": []
          },
          "execution_count": 45
        }
      ]
    },
    {
      "cell_type": "code",
      "metadata": {
        "id": "pGOy6xkLwB-o",
        "colab_type": "code",
        "colab": {
          "base_uri": "https://localhost:8080/",
          "height": 33
        },
        "outputId": "e1447ea0-628a-4273-d7cf-7b889100d11b"
      },
      "source": [
        "loc1.lat_direction"
      ],
      "execution_count": null,
      "outputs": [
        {
          "output_type": "execute_result",
          "data": {
            "text/plain": [
              "\u001b[36mres45\u001b[39m: \u001b[32mChar\u001b[39m = \u001b[32m'N'\u001b[39m"
            ]
          },
          "metadata": {
            "tags": []
          },
          "execution_count": 46
        }
      ]
    },
    {
      "cell_type": "code",
      "metadata": {
        "id": "z67jQQ4PwSNu",
        "colab_type": "code",
        "colab": {
          "base_uri": "https://localhost:8080/",
          "height": 33
        },
        "outputId": "c4190883-9b45-4bf7-c070-778c050ead74"
      },
      "source": [
        "class myPublicPrivate(val x:Int=0, val y:Int=0, private val z:Int=0)"
      ],
      "execution_count": null,
      "outputs": [
        {
          "output_type": "execute_result",
          "data": {
            "text/plain": [
              "defined \u001b[32mclass\u001b[39m \u001b[36mmyPublicPrivate\u001b[39m"
            ]
          },
          "metadata": {
            "tags": []
          },
          "execution_count": 48
        }
      ]
    },
    {
      "cell_type": "code",
      "metadata": {
        "id": "SEqLsXx7wscF",
        "colab_type": "code",
        "colab": {
          "base_uri": "https://localhost:8080/",
          "height": 33
        },
        "outputId": "d367208f-7aea-4b7b-f124-5b8f79bf92f3"
      },
      "source": [
        "val myPP = new myPublicPrivate"
      ],
      "execution_count": null,
      "outputs": [
        {
          "output_type": "execute_result",
          "data": {
            "text/plain": [
              "\u001b[36mmyPP\u001b[39m: \u001b[32mmyPublicPrivate\u001b[39m = ammonite.$sess.cmd47$Helper$myPublicPrivate@5afb1526"
            ]
          },
          "metadata": {
            "tags": []
          },
          "execution_count": 49
        }
      ]
    },
    {
      "cell_type": "code",
      "metadata": {
        "id": "s97RcqhNw6QI",
        "colab_type": "code",
        "colab": {
          "base_uri": "https://localhost:8080/",
          "height": 33
        },
        "outputId": "750a5365-f5df-4fb5-d4e7-ae257481206e"
      },
      "source": [
        "class Point2D(coord1:Int, coord2:Int){\n",
        "  var a: Int = coord1\n",
        "  var b: Int = coord2\n",
        "\n",
        "  def move(delta_a: Int, delta_b: Int){\n",
        "    a = a + delta_a\n",
        "    b = b + delta_b\n",
        "  }\n",
        "\n",
        "}"
      ],
      "execution_count": null,
      "outputs": [
        {
          "output_type": "execute_result",
          "data": {
            "text/plain": [
              "defined \u001b[32mclass\u001b[39m \u001b[36mPoint2D\u001b[39m"
            ]
          },
          "metadata": {
            "tags": []
          },
          "execution_count": 50
        }
      ]
    },
    {
      "cell_type": "code",
      "metadata": {
        "id": "KxO2kTBCxpNs",
        "colab_type": "code",
        "colab": {
          "base_uri": "https://localhost:8080/",
          "height": 33
        },
        "outputId": "3b85f52e-5310-4adf-e732-b2d607e15c1c"
      },
      "source": [
        "val point1 = new Point2D(2,4)"
      ],
      "execution_count": null,
      "outputs": [
        {
          "output_type": "execute_result",
          "data": {
            "text/plain": [
              "\u001b[36mpoint1\u001b[39m: \u001b[32mPoint2D\u001b[39m = ammonite.$sess.cmd49$Helper$Point2D@c13b69e"
            ]
          },
          "metadata": {
            "tags": []
          },
          "execution_count": 59
        }
      ]
    },
    {
      "cell_type": "code",
      "metadata": {
        "id": "brAkztc-yDnN",
        "colab_type": "code",
        "colab": {
          "base_uri": "https://localhost:8080/",
          "height": 33
        },
        "outputId": "38ac1b2d-17e5-4346-954e-511d9b2d3347"
      },
      "source": [
        "point1.a"
      ],
      "execution_count": null,
      "outputs": [
        {
          "output_type": "execute_result",
          "data": {
            "text/plain": [
              "\u001b[36mres59\u001b[39m: \u001b[32mInt\u001b[39m = \u001b[32m2\u001b[39m"
            ]
          },
          "metadata": {
            "tags": []
          },
          "execution_count": 60
        }
      ]
    },
    {
      "cell_type": "code",
      "metadata": {
        "id": "3gv9H9T7yGmC",
        "colab_type": "code",
        "colab": {
          "base_uri": "https://localhost:8080/",
          "height": 33
        },
        "outputId": "630a1618-be7f-47cf-bca0-d09fd0661c75"
      },
      "source": [
        "point1.b"
      ],
      "execution_count": null,
      "outputs": [
        {
          "output_type": "execute_result",
          "data": {
            "text/plain": [
              "\u001b[36mres60\u001b[39m: \u001b[32mInt\u001b[39m = \u001b[32m4\u001b[39m"
            ]
          },
          "metadata": {
            "tags": []
          },
          "execution_count": 61
        }
      ]
    },
    {
      "cell_type": "code",
      "metadata": {
        "id": "sNJJKX5SxwuE",
        "colab_type": "code",
        "colab": {}
      },
      "source": [
        "point1.move(1,4)"
      ],
      "execution_count": null,
      "outputs": []
    },
    {
      "cell_type": "code",
      "metadata": {
        "id": "aOr_VcZDx284",
        "colab_type": "code",
        "colab": {
          "base_uri": "https://localhost:8080/",
          "height": 50
        },
        "outputId": "86ef18c2-fad3-4041-92fa-048c33d42550"
      },
      "source": [
        "point1.a\n",
        "point1.b"
      ],
      "execution_count": null,
      "outputs": [
        {
          "output_type": "execute_result",
          "data": {
            "text/plain": [
              "\u001b[36mres63_0\u001b[39m: \u001b[32mInt\u001b[39m = \u001b[32m3\u001b[39m\n",
              "\u001b[36mres63_1\u001b[39m: \u001b[32mInt\u001b[39m = \u001b[32m8\u001b[39m"
            ]
          },
          "metadata": {
            "tags": []
          },
          "execution_count": 64
        }
      ]
    },
    {
      "cell_type": "markdown",
      "metadata": {
        "id": "tLMwTzm4y_WR",
        "colab_type": "text"
      },
      "source": [
        "## Parallel Processing in Scala\n",
        "The key objective of Scala is to work with large data sets. To achieve that Scala has very clean solution of processing in parallel with minimal code change. If you are coming from Python, multiprocessing is hard to setup and often results with unintended results and failures. Scala has much better support of multi processing. Among other operations, filter and map are the most commonly used when processing in parallel. Follow some examples below."
      ]
    },
    {
      "cell_type": "code",
      "metadata": {
        "id": "CoIY_oY2yZRt",
        "colab_type": "code",
        "colab": {
          "base_uri": "https://localhost:8080/",
          "height": 33
        },
        "outputId": "18fc067b-86e8-4a19-8adc-d0f3a636ea7a"
      },
      "source": [
        "val tng10 = 1 to 10"
      ],
      "execution_count": null,
      "outputs": [
        {
          "output_type": "execute_result",
          "data": {
            "text/plain": [
              "\u001b[36mtng10\u001b[39m: \u001b[32mRange\u001b[39m.\u001b[32mInclusive\u001b[39m = \u001b[33mRange.Inclusive\u001b[39m(\u001b[32m1\u001b[39m, \u001b[32m2\u001b[39m, \u001b[32m3\u001b[39m, \u001b[32m4\u001b[39m, \u001b[32m5\u001b[39m, \u001b[32m6\u001b[39m, \u001b[32m7\u001b[39m, \u001b[32m8\u001b[39m, \u001b[32m9\u001b[39m, \u001b[32m10\u001b[39m)"
            ]
          },
          "metadata": {
            "tags": []
          },
          "execution_count": 67
        }
      ]
    },
    {
      "cell_type": "code",
      "metadata": {
        "id": "E9yEYPl-zfeT",
        "colab_type": "code",
        "colab": {
          "base_uri": "https://localhost:8080/",
          "height": 33
        },
        "outputId": "20c02212-5741-4b07-b9ba-b284eaf56c28"
      },
      "source": [
        "val prng10 = tng10.par"
      ],
      "execution_count": null,
      "outputs": [
        {
          "output_type": "execute_result",
          "data": {
            "text/plain": [
              "\u001b[36mprng10\u001b[39m: \u001b[32mcollection\u001b[39m.\u001b[32mparallel\u001b[39m.\u001b[32mimmutable\u001b[39m.\u001b[32mParRange\u001b[39m = ParRange 1 to 10"
            ]
          },
          "metadata": {
            "tags": []
          },
          "execution_count": 68
        }
      ]
    },
    {
      "cell_type": "code",
      "metadata": {
        "id": "U1hi7A47zvv8",
        "colab_type": "code",
        "colab": {
          "base_uri": "https://localhost:8080/",
          "height": 33
        },
        "outputId": "51c346df-75b0-41e4-958d-716ed4ea1592"
      },
      "source": [
        "import scala.collection.parallel.immutable.ParVector"
      ],
      "execution_count": null,
      "outputs": [
        {
          "output_type": "execute_result",
          "data": {
            "text/plain": [
              "\u001b[32mimport \u001b[39m\u001b[36mscala.collection.parallel.immutable.ParVector\u001b[39m"
            ]
          },
          "metadata": {
            "tags": []
          },
          "execution_count": 69
        }
      ]
    },
    {
      "cell_type": "code",
      "metadata": {
        "id": "r3V_qoDN0CMT",
        "colab_type": "code",
        "colab": {
          "base_uri": "https://localhost:8080/",
          "height": 53
        },
        "outputId": "25164cb1-dca2-419f-8d26-5c9351654758"
      },
      "source": [
        "val pvec200 = ParVector.range(0,200)"
      ],
      "execution_count": null,
      "outputs": [
        {
          "output_type": "execute_result",
          "data": {
            "text/plain": [
              "\u001b[36mpvec200\u001b[39m: \u001b[32mParVector\u001b[39m[\u001b[32mInt\u001b[39m] = ParVector(0, 1, 2, 3, 4, 5, 6, 7, 8, 9, 10, 11, 12, 13, 14, 15, 16, 17, 18, 19, 20, 21, 22, 23, 24, 25, 26, 27, 28, 29, 30, 31, 32, 33, 34, 35, 36, 37, 38, 39, 40, 41, 42, 43, 44, 45, 46, 47, 48, 49, 50, 51, 52, 53, 54, 55, 56, 57, 58, 59, 60, 61, 62, 63, 64, 65, 66, 67, 68, 69, 70, 71, 72, 73, 74, 75, 76, 77, 78, 79, 80, 81, 82, 83, 84, 85, 86, 87, 88, 89, 90, 91, 92, 93, 94, 95, 96, 97, 98, 99, 100, 101, 102, 103, 104, 105, 106, 107, 108, 109, 110, 111, 112, 113, 114, 115, 116, 117, 118, 119, 120, 121, 122, 123, 124, 125, 126, 127, 128, 129, 130, 131, 132, 133, 134, 135, 136, 137, 138, 139, 140, 141, 142, 143, 144, 145, 146, 147, 148, 149, 150, 151, 152, 153, 154, 155, 156, 157, 158, 159, 160, 161, 162, 163, 164, 165, 166, 167, 168, 169, 170, 171, 172, 173, 174, 175, 176, 177, 178, 179, 180, 181, 182, 183, 184, 185, 186, 187, 188, 189, 190, 191, 192, 193, 194, 195, 196, 197, 198, 199)"
            ]
          },
          "metadata": {
            "tags": []
          },
          "execution_count": 70
        }
      ]
    },
    {
      "cell_type": "code",
      "metadata": {
        "id": "f4XzWvWC0QZm",
        "colab_type": "code",
        "colab": {
          "base_uri": "https://localhost:8080/",
          "height": 683
        },
        "outputId": "e9c8b995-0434-4f57-a1c7-c503910adcba"
      },
      "source": [
        "// mapping fucntion over Parallel Collection\n",
        "\n",
        "val v = (1 to 100).toArray\n"
      ],
      "execution_count": null,
      "outputs": [
        {
          "output_type": "execute_result",
          "data": {
            "text/plain": [
              "\u001b[36mv\u001b[39m: \u001b[32mArray\u001b[39m[\u001b[32mInt\u001b[39m] = \u001b[33mArray\u001b[39m(\n",
              "  \u001b[32m1\u001b[39m,\n",
              "  \u001b[32m2\u001b[39m,\n",
              "  \u001b[32m3\u001b[39m,\n",
              "  \u001b[32m4\u001b[39m,\n",
              "  \u001b[32m5\u001b[39m,\n",
              "  \u001b[32m6\u001b[39m,\n",
              "  \u001b[32m7\u001b[39m,\n",
              "  \u001b[32m8\u001b[39m,\n",
              "  \u001b[32m9\u001b[39m,\n",
              "  \u001b[32m10\u001b[39m,\n",
              "  \u001b[32m11\u001b[39m,\n",
              "  \u001b[32m12\u001b[39m,\n",
              "  \u001b[32m13\u001b[39m,\n",
              "  \u001b[32m14\u001b[39m,\n",
              "  \u001b[32m15\u001b[39m,\n",
              "  \u001b[32m16\u001b[39m,\n",
              "  \u001b[32m17\u001b[39m,\n",
              "  \u001b[32m18\u001b[39m,\n",
              "  \u001b[32m19\u001b[39m,\n",
              "  \u001b[32m20\u001b[39m,\n",
              "  \u001b[32m21\u001b[39m,\n",
              "  \u001b[32m22\u001b[39m,\n",
              "  \u001b[32m23\u001b[39m,\n",
              "  \u001b[32m24\u001b[39m,\n",
              "  \u001b[32m25\u001b[39m,\n",
              "  \u001b[32m26\u001b[39m,\n",
              "  \u001b[32m27\u001b[39m,\n",
              "  \u001b[32m28\u001b[39m,\n",
              "  \u001b[32m29\u001b[39m,\n",
              "  \u001b[32m30\u001b[39m,\n",
              "  \u001b[32m31\u001b[39m,\n",
              "  \u001b[32m32\u001b[39m,\n",
              "  \u001b[32m33\u001b[39m,\n",
              "  \u001b[32m34\u001b[39m,\n",
              "  \u001b[32m35\u001b[39m,\n",
              "  \u001b[32m36\u001b[39m,\n",
              "  \u001b[32m37\u001b[39m,\n",
              "  \u001b[32m38\u001b[39m,\n",
              "..."
            ]
          },
          "metadata": {
            "tags": []
          },
          "execution_count": 71
        }
      ]
    },
    {
      "cell_type": "code",
      "metadata": {
        "id": "CXpb7vvx0hGo",
        "colab_type": "code",
        "colab": {
          "base_uri": "https://localhost:8080/",
          "height": 53
        },
        "outputId": "2a74a26f-2af8-431c-83ed-5b28ba5d84a8"
      },
      "source": [
        "val pv = v.par"
      ],
      "execution_count": null,
      "outputs": [
        {
          "output_type": "execute_result",
          "data": {
            "text/plain": [
              "\u001b[36mpv\u001b[39m: \u001b[32mcollection\u001b[39m.\u001b[32mparallel\u001b[39m.\u001b[32mmutable\u001b[39m.\u001b[32mParArray\u001b[39m[\u001b[32mInt\u001b[39m] = ParArray(1, 2, 3, 4, 5, 6, 7, 8, 9, 10, 11, 12, 13, 14, 15, 16, 17, 18, 19, 20, 21, 22, 23, 24, 25, 26, 27, 28, 29, 30, 31, 32, 33, 34, 35, 36, 37, 38, 39, 40, 41, 42, 43, 44, 45, 46, 47, 48, 49, 50, 51, 52, 53, 54, 55, 56, 57, 58, 59, 60, 61, 62, 63, 64, 65, 66, 67, 68, 69, 70, 71, 72, 73, 74, 75, 76, 77, 78, 79, 80, 81, 82, 83, 84, 85, 86, 87, 88, 89, 90, 91, 92, 93, 94, 95, 96, 97, 98, 99, 100)"
            ]
          },
          "metadata": {
            "tags": []
          },
          "execution_count": 72
        }
      ]
    },
    {
      "cell_type": "code",
      "metadata": {
        "id": "RFcp87tc0m4q",
        "colab_type": "code",
        "colab": {
          "base_uri": "https://localhost:8080/",
          "height": 683
        },
        "outputId": "a815f29b-7f46-4eaf-e664-a1aa11856826"
      },
      "source": [
        "v.map(_*2)"
      ],
      "execution_count": null,
      "outputs": [
        {
          "output_type": "execute_result",
          "data": {
            "text/plain": [
              "\u001b[36mres72\u001b[39m: \u001b[32mArray\u001b[39m[\u001b[32mInt\u001b[39m] = \u001b[33mArray\u001b[39m(\n",
              "  \u001b[32m2\u001b[39m,\n",
              "  \u001b[32m4\u001b[39m,\n",
              "  \u001b[32m6\u001b[39m,\n",
              "  \u001b[32m8\u001b[39m,\n",
              "  \u001b[32m10\u001b[39m,\n",
              "  \u001b[32m12\u001b[39m,\n",
              "  \u001b[32m14\u001b[39m,\n",
              "  \u001b[32m16\u001b[39m,\n",
              "  \u001b[32m18\u001b[39m,\n",
              "  \u001b[32m20\u001b[39m,\n",
              "  \u001b[32m22\u001b[39m,\n",
              "  \u001b[32m24\u001b[39m,\n",
              "  \u001b[32m26\u001b[39m,\n",
              "  \u001b[32m28\u001b[39m,\n",
              "  \u001b[32m30\u001b[39m,\n",
              "  \u001b[32m32\u001b[39m,\n",
              "  \u001b[32m34\u001b[39m,\n",
              "  \u001b[32m36\u001b[39m,\n",
              "  \u001b[32m38\u001b[39m,\n",
              "  \u001b[32m40\u001b[39m,\n",
              "  \u001b[32m42\u001b[39m,\n",
              "  \u001b[32m44\u001b[39m,\n",
              "  \u001b[32m46\u001b[39m,\n",
              "  \u001b[32m48\u001b[39m,\n",
              "  \u001b[32m50\u001b[39m,\n",
              "  \u001b[32m52\u001b[39m,\n",
              "  \u001b[32m54\u001b[39m,\n",
              "  \u001b[32m56\u001b[39m,\n",
              "  \u001b[32m58\u001b[39m,\n",
              "  \u001b[32m60\u001b[39m,\n",
              "  \u001b[32m62\u001b[39m,\n",
              "  \u001b[32m64\u001b[39m,\n",
              "  \u001b[32m66\u001b[39m,\n",
              "  \u001b[32m68\u001b[39m,\n",
              "  \u001b[32m70\u001b[39m,\n",
              "  \u001b[32m72\u001b[39m,\n",
              "  \u001b[32m74\u001b[39m,\n",
              "  \u001b[32m76\u001b[39m,\n",
              "..."
            ]
          },
          "metadata": {
            "tags": []
          },
          "execution_count": 73
        }
      ]
    },
    {
      "cell_type": "code",
      "metadata": {
        "id": "syizBxbA00y5",
        "colab_type": "code",
        "colab": {
          "base_uri": "https://localhost:8080/",
          "height": 53
        },
        "outputId": "c615628d-fa6a-4904-cd21-082e2e4723bb"
      },
      "source": [
        "pv.map(_ *2)"
      ],
      "execution_count": null,
      "outputs": [
        {
          "output_type": "execute_result",
          "data": {
            "text/plain": [
              "\u001b[36mres73\u001b[39m: \u001b[32mcollection\u001b[39m.\u001b[32mparallel\u001b[39m.\u001b[32mmutable\u001b[39m.\u001b[32mParArray\u001b[39m[\u001b[32mInt\u001b[39m] = ParArray(2, 4, 6, 8, 10, 12, 14, 16, 18, 20, 22, 24, 26, 28, 30, 32, 34, 36, 38, 40, 42, 44, 46, 48, 50, 52, 54, 56, 58, 60, 62, 64, 66, 68, 70, 72, 74, 76, 78, 80, 82, 84, 86, 88, 90, 92, 94, 96, 98, 100, 102, 104, 106, 108, 110, 112, 114, 116, 118, 120, 122, 124, 126, 128, 130, 132, 134, 136, 138, 140, 142, 144, 146, 148, 150, 152, 154, 156, 158, 160, 162, 164, 166, 168, 170, 172, 174, 176, 178, 180, 182, 184, 186, 188, 190, 192, 194, 196, 198, 200)"
            ]
          },
          "metadata": {
            "tags": []
          },
          "execution_count": 74
        }
      ]
    },
    {
      "cell_type": "code",
      "metadata": {
        "id": "6BAGEKED043Q",
        "colab_type": "code",
        "colab": {
          "base_uri": "https://localhost:8080/",
          "height": 33
        },
        "outputId": "f6e6884c-1c87-4286-f609-a03f96221657"
      },
      "source": [
        "def square(x:Int) : Int = {return x*x}"
      ],
      "execution_count": null,
      "outputs": [
        {
          "output_type": "execute_result",
          "data": {
            "text/plain": [
              "defined \u001b[32mfunction\u001b[39m \u001b[36msquare\u001b[39m"
            ]
          },
          "metadata": {
            "tags": []
          },
          "execution_count": 75
        }
      ]
    },
    {
      "cell_type": "code",
      "metadata": {
        "id": "8BXtL7uW1QDa",
        "colab_type": "code",
        "colab": {
          "base_uri": "https://localhost:8080/",
          "height": 33
        },
        "outputId": "77da1761-edb6-4164-9034-d923bd0fdcc1"
      },
      "source": [
        "square(3)"
      ],
      "execution_count": null,
      "outputs": [
        {
          "output_type": "execute_result",
          "data": {
            "text/plain": [
              "\u001b[36mres76\u001b[39m: \u001b[32mInt\u001b[39m = \u001b[32m9\u001b[39m"
            ]
          },
          "metadata": {
            "tags": []
          },
          "execution_count": 77
        }
      ]
    },
    {
      "cell_type": "code",
      "metadata": {
        "id": "Ps1z83ne1RyE",
        "colab_type": "code",
        "colab": {
          "base_uri": "https://localhost:8080/",
          "height": 683
        },
        "outputId": "f2a9afbf-ac08-427f-944c-b18f091b941e"
      },
      "source": [
        "v.map(square(_))"
      ],
      "execution_count": null,
      "outputs": [
        {
          "output_type": "execute_result",
          "data": {
            "text/plain": [
              "\u001b[36mres77\u001b[39m: \u001b[32mArray\u001b[39m[\u001b[32mInt\u001b[39m] = \u001b[33mArray\u001b[39m(\n",
              "  \u001b[32m1\u001b[39m,\n",
              "  \u001b[32m4\u001b[39m,\n",
              "  \u001b[32m9\u001b[39m,\n",
              "  \u001b[32m16\u001b[39m,\n",
              "  \u001b[32m25\u001b[39m,\n",
              "  \u001b[32m36\u001b[39m,\n",
              "  \u001b[32m49\u001b[39m,\n",
              "  \u001b[32m64\u001b[39m,\n",
              "  \u001b[32m81\u001b[39m,\n",
              "  \u001b[32m100\u001b[39m,\n",
              "  \u001b[32m121\u001b[39m,\n",
              "  \u001b[32m144\u001b[39m,\n",
              "  \u001b[32m169\u001b[39m,\n",
              "  \u001b[32m196\u001b[39m,\n",
              "  \u001b[32m225\u001b[39m,\n",
              "  \u001b[32m256\u001b[39m,\n",
              "  \u001b[32m289\u001b[39m,\n",
              "  \u001b[32m324\u001b[39m,\n",
              "  \u001b[32m361\u001b[39m,\n",
              "  \u001b[32m400\u001b[39m,\n",
              "  \u001b[32m441\u001b[39m,\n",
              "  \u001b[32m484\u001b[39m,\n",
              "  \u001b[32m529\u001b[39m,\n",
              "  \u001b[32m576\u001b[39m,\n",
              "  \u001b[32m625\u001b[39m,\n",
              "  \u001b[32m676\u001b[39m,\n",
              "  \u001b[32m729\u001b[39m,\n",
              "  \u001b[32m784\u001b[39m,\n",
              "  \u001b[32m841\u001b[39m,\n",
              "  \u001b[32m900\u001b[39m,\n",
              "  \u001b[32m961\u001b[39m,\n",
              "  \u001b[32m1024\u001b[39m,\n",
              "  \u001b[32m1089\u001b[39m,\n",
              "  \u001b[32m1156\u001b[39m,\n",
              "  \u001b[32m1225\u001b[39m,\n",
              "  \u001b[32m1296\u001b[39m,\n",
              "  \u001b[32m1369\u001b[39m,\n",
              "  \u001b[32m1444\u001b[39m,\n",
              "..."
            ]
          },
          "metadata": {
            "tags": []
          },
          "execution_count": 78
        }
      ]
    },
    {
      "cell_type": "code",
      "metadata": {
        "id": "3W5fyrLD1aqL",
        "colab_type": "code",
        "colab": {
          "base_uri": "https://localhost:8080/",
          "height": 53
        },
        "outputId": "9855b9a1-d81d-479a-8884-a0f40eb59746"
      },
      "source": [
        "pv.map(square(_))"
      ],
      "execution_count": null,
      "outputs": [
        {
          "output_type": "execute_result",
          "data": {
            "text/plain": [
              "\u001b[36mres78\u001b[39m: \u001b[32mcollection\u001b[39m.\u001b[32mparallel\u001b[39m.\u001b[32mmutable\u001b[39m.\u001b[32mParArray\u001b[39m[\u001b[32mInt\u001b[39m] = ParArray(1, 4, 9, 16, 25, 36, 49, 64, 81, 100, 121, 144, 169, 196, 225, 256, 289, 324, 361, 400, 441, 484, 529, 576, 625, 676, 729, 784, 841, 900, 961, 1024, 1089, 1156, 1225, 1296, 1369, 1444, 1521, 1600, 1681, 1764, 1849, 1936, 2025, 2116, 2209, 2304, 2401, 2500, 2601, 2704, 2809, 2916, 3025, 3136, 3249, 3364, 3481, 3600, 3721, 3844, 3969, 4096, 4225, 4356, 4489, 4624, 4761, 4900, 5041, 5184, 5329, 5476, 5625, 5776, 5929, 6084, 6241, 6400, 6561, 6724, 6889, 7056, 7225, 7396, 7569, 7744, 7921, 8100, 8281, 8464, 8649, 8836, 9025, 9216, 9409, 9604, 9801, 10000)"
            ]
          },
          "metadata": {
            "tags": []
          },
          "execution_count": 79
        }
      ]
    },
    {
      "cell_type": "code",
      "metadata": {
        "id": "y0ePHdP31eU4",
        "colab_type": "code",
        "colab": {
          "base_uri": "https://localhost:8080/",
          "height": 720
        },
        "outputId": "97a7291d-f0fb-4760-c7fc-d667195c3081"
      },
      "source": [
        "// Filtering parallel collections\n",
        "val v = (1 to 10000).toArray\n",
        "val pv = v.par"
      ],
      "execution_count": null,
      "outputs": [
        {
          "output_type": "execute_result",
          "data": {
            "text/plain": [
              "\u001b[36mv\u001b[39m: \u001b[32mArray\u001b[39m[\u001b[32mInt\u001b[39m] = \u001b[33mArray\u001b[39m(\n",
              "  \u001b[32m1\u001b[39m,\n",
              "  \u001b[32m2\u001b[39m,\n",
              "  \u001b[32m3\u001b[39m,\n",
              "  \u001b[32m4\u001b[39m,\n",
              "  \u001b[32m5\u001b[39m,\n",
              "  \u001b[32m6\u001b[39m,\n",
              "  \u001b[32m7\u001b[39m,\n",
              "  \u001b[32m8\u001b[39m,\n",
              "  \u001b[32m9\u001b[39m,\n",
              "  \u001b[32m10\u001b[39m,\n",
              "  \u001b[32m11\u001b[39m,\n",
              "  \u001b[32m12\u001b[39m,\n",
              "  \u001b[32m13\u001b[39m,\n",
              "  \u001b[32m14\u001b[39m,\n",
              "  \u001b[32m15\u001b[39m,\n",
              "  \u001b[32m16\u001b[39m,\n",
              "  \u001b[32m17\u001b[39m,\n",
              "  \u001b[32m18\u001b[39m,\n",
              "  \u001b[32m19\u001b[39m,\n",
              "  \u001b[32m20\u001b[39m,\n",
              "  \u001b[32m21\u001b[39m,\n",
              "  \u001b[32m22\u001b[39m,\n",
              "  \u001b[32m23\u001b[39m,\n",
              "  \u001b[32m24\u001b[39m,\n",
              "  \u001b[32m25\u001b[39m,\n",
              "  \u001b[32m26\u001b[39m,\n",
              "  \u001b[32m27\u001b[39m,\n",
              "  \u001b[32m28\u001b[39m,\n",
              "  \u001b[32m29\u001b[39m,\n",
              "  \u001b[32m30\u001b[39m,\n",
              "  \u001b[32m31\u001b[39m,\n",
              "  \u001b[32m32\u001b[39m,\n",
              "  \u001b[32m33\u001b[39m,\n",
              "  \u001b[32m34\u001b[39m,\n",
              "  \u001b[32m35\u001b[39m,\n",
              "  \u001b[32m36\u001b[39m,\n",
              "  \u001b[32m37\u001b[39m,\n",
              "  \u001b[32m38\u001b[39m,\n",
              "...\n",
              "\u001b[36mpv\u001b[39m: \u001b[32mcollection\u001b[39m.\u001b[32mparallel\u001b[39m.\u001b[32mmutable\u001b[39m.\u001b[32mParArray\u001b[39m[\u001b[32mInt\u001b[39m] = ParArray(1, 2, 3, 4, 5, 6, 7, 8, 9, 10, 11, 12, 13, 14, 15, 16, 17, 18, 19, 20, 21, 22, 23, 24, 25, 26, 27, 28, 29, 30, 31, 32, 33, 34, 35, 36, 37, 38, 39, 40, 41, 42, 43, 44, 45, 46, 47, 48, 49, 50, 51, 52, 53, 54, 55, 56, 57, 58, 59, 60, 61, 62, 63, 64, 65, 66, 67, 68, 69, 70, 71, 72, 73, 74, 75, 76, 77, 78, 79, 80, 81, 82, 83, 84, 85, 86, 87, 88, 89, 90, 91, 92, 93, 94, 95, 96, 97, 98, 99, 100, 101, 102, 103, 104, 105, 106, 107, 108, 109, 110, 111, 112, 113, 114, 115, 116, 117, 118, 119, 120, 121, 122, 123, 124, 125, 126, 127, 128, 129, 130, 131, 132, 133, 134, 135, 136, 137, 138, 139, 140, 141, 142, 143, 144, 145, 146, 147, 148, 149, 150, 151, 152, 153, 154, 155, 156, 157, 158, 159, 160, 161, 162, 163, 164, 165, 166, 167, 168, 169, 170, 171, 172, 173, 174, 175, 176, 177, 178, 179, 180, 181, 182, 183, 184, 185, 186, 187, 188, 189, 190, 191, 192, 193, 194, 195, 196, 197, 198, 199, 200, 201, 202, 203, 204, 205, 206, 207, 208, 209, 210, 211, 212, 213, 214, 215, 216, 217, 218, 219, 220, 221, 222, 223, 224, 225, 226, 227, 228, 229, 230, 231, 232, 233, 234, 235, 236, 237, 238, 239, 240, 241, 242, 243, 244, 245, 246, 247, 248, 249, 250, 251, 252, 253, 254, 255, 256, 257, 258, 259, 260, 261, 262, 263, 264, 265, 266, 267, 268, 269, 270, 271, 272, 273, 274, 275, 276, 277, 278, 279, 280, 281, 282, 283, 284, 285, 286, 287, 288, 289, 290, 291, 292, 293, 294, 295, 296, 297, 298, 299, 300, 301, 302, 303, 304, 305, 306, 307, 308, 309, 310, 311, 312, 313, 314, 315, 316, 317, 318, 319, 320, 321, 322, 323, 324, 325, 326, 327, 328, 329, 330, 331, 332, 333, 334, 335, 336, 337, 338, 339, 340, 341, 342, 343, 344, 345, 346, 347, 348, 349, 350, 351, 352, 353, 354, 355, 356, 357, 358, 359, 360, 361, 362, 363, 364, 365, 366, 367, 368, 369, 370, 371, 372, 373, 374, 375, 376, 377, 378, 379, 380, 381, 382, 383, 384, 385, 386, 387, 388, 389, 390, 391, 392, 393, 394, 395, 396, 397, 398, 399, 400, 401, 402, 403, 404, 405, 406, 407, 408, 409, 410, 411, 412, 413, 414, 415, 416, 417, 418, 419, 420, 421, 422, 423, 424, 425, 426, 427, 428, 429, 430, 431, 432, 433, 434, 435, 436, 437, 438, 439, 440, 441, 442, 443, 444, 445, 446, 447, 448, 449, 450, 451, 452, 453, 454, 455, 456, 457, 458, 459, 460, 461, 462, 463, 464, 465, 466, 467, 468, 469, 470, 471, 472, 473, 474, 475, 476, 477, 478, 479, 480, 481, 482, 483, 484, 485, 486, 487, 488, 489, 490, 491, 492, 493, 494, 495, 496, 497, 498, 499, 500, 501, 502, 503, 504, 505, 506, 507, 508, 509, 510, 511, 512, 513, 514, 515, 516, 517, 518, 519, 520, 521, 522, 523, 524, 525, 526, 527, 528, 529, 530, 531, 532, 533, 534, 535, 536, 537, 538, 539, 540, 541, 542, 543, 544, 545, 546, 547, 548, 549, 550, 551, 552, 553, 554, 555, 556, 557, 558, 559, 560, 561, 562, 563, 564, 565, 566, 567, 568, 569, 570, 571, 572, 573, 574, 575, 576, 577, 578, 579, 580, 581, 582, 583, 584, 585, 586, 587, 588, 589, 590, 591, 592, 593, 594, 595, 596, 597, 598, 599, 600, 601, 602, 603, 604, 605, 606, 607, 608, 609, 610, 611, 612, 613, 614, 615, 616, 617, 618, 619, 620, 621, 622, 623, 624, 625, 626, 627, 628, 629, 630, 631, 632, 633, 634, 635, 636, 637, 638, 639, 640, 641, 642, 643, 644,..."
            ]
          },
          "metadata": {
            "tags": []
          },
          "execution_count": 80
        }
      ]
    },
    {
      "cell_type": "code",
      "metadata": {
        "id": "nBZ6p6LF11h2",
        "colab_type": "code",
        "colab": {
          "base_uri": "https://localhost:8080/",
          "height": 33
        },
        "outputId": "6b4f2ea7-96b3-428b-c104-2a281392f197"
      },
      "source": [
        "v.length"
      ],
      "execution_count": null,
      "outputs": [
        {
          "output_type": "execute_result",
          "data": {
            "text/plain": [
              "\u001b[36mres80\u001b[39m: \u001b[32mInt\u001b[39m = \u001b[32m10000\u001b[39m"
            ]
          },
          "metadata": {
            "tags": []
          },
          "execution_count": 81
        }
      ]
    },
    {
      "cell_type": "code",
      "metadata": {
        "id": "HpDEWfH417FR",
        "colab_type": "code",
        "colab": {
          "base_uri": "https://localhost:8080/",
          "height": 33
        },
        "outputId": "8e746458-918a-4366-cc0b-bc07450c3e18"
      },
      "source": [
        "pv.length"
      ],
      "execution_count": null,
      "outputs": [
        {
          "output_type": "execute_result",
          "data": {
            "text/plain": [
              "\u001b[36mres81\u001b[39m: \u001b[32mInt\u001b[39m = \u001b[32m10000\u001b[39m"
            ]
          },
          "metadata": {
            "tags": []
          },
          "execution_count": 82
        }
      ]
    },
    {
      "cell_type": "code",
      "metadata": {
        "id": "ndAcSeXw18sq",
        "colab_type": "code",
        "colab": {
          "base_uri": "https://localhost:8080/",
          "height": 53
        },
        "outputId": "7d276fe0-5b3e-46fe-dc80-193aff49a87d"
      },
      "source": [
        "val pvf = pv.filter(_ > 5000)"
      ],
      "execution_count": null,
      "outputs": [
        {
          "output_type": "execute_result",
          "data": {
            "text/plain": [
              "\u001b[36mpvf\u001b[39m: \u001b[32mcollection\u001b[39m.\u001b[32mparallel\u001b[39m.\u001b[32mmutable\u001b[39m.\u001b[32mParArray\u001b[39m[\u001b[32mInt\u001b[39m] = ParArray(5001, 5002, 5003, 5004, 5005, 5006, 5007, 5008, 5009, 5010, 5011, 5012, 5013, 5014, 5015, 5016, 5017, 5018, 5019, 5020, 5021, 5022, 5023, 5024, 5025, 5026, 5027, 5028, 5029, 5030, 5031, 5032, 5033, 5034, 5035, 5036, 5037, 5038, 5039, 5040, 5041, 5042, 5043, 5044, 5045, 5046, 5047, 5048, 5049, 5050, 5051, 5052, 5053, 5054, 5055, 5056, 5057, 5058, 5059, 5060, 5061, 5062, 5063, 5064, 5065, 5066, 5067, 5068, 5069, 5070, 5071, 5072, 5073, 5074, 5075, 5076, 5077, 5078, 5079, 5080, 5081, 5082, 5083, 5084, 5085, 5086, 5087, 5088, 5089, 5090, 5091, 5092, 5093, 5094, 5095, 5096, 5097, 5098, 5099, 5100, 5101, 5102, 5103, 5104, 5105, 5106, 5107, 5108, 5109, 5110, 5111, 5112, 5113, 5114, 5115, 5116, 5117, 5118, 5119, 5120, 5121, 5122, 5123, 5124, 5125, 5126, 5127, 5128, 5129, 5130, 5131, 5132, 5133, 5134, 5135, 5136, 5137, 5138, 5139, 5140, 5141, 5142, 5143, 5144, 5145, 5146, 5147, 5148, 5149, 5150, 5151, 5152, 5153, 5154, 5155, 5156, 5157, 5158, 5159, 5160, 5161, 5162, 5163, 5164, 5165, 5166, 5167, 5168, 5169, 5170, 5171, 5172, 5173, 5174, 5175, 5176, 5177, 5178, 5179, 5180, 5181, 5182, 5183, 5184, 5185, 5186, 5187, 5188, 5189, 5190, 5191, 5192, 5193, 5194, 5195, 5196, 5197, 5198, 5199, 5200, 5201, 5202, 5203, 5204, 5205, 5206, 5207, 5208, 5209, 5210, 5211, 5212, 5213, 5214, 5215, 5216, 5217, 5218, 5219, 5220, 5221, 5222, 5223, 5224, 5225, 5226, 5227, 5228, 5229, 5230, 5231, 5232, 5233, 5234, 5235, 5236, 5237, 5238, 5239, 5240, 5241, 5242, 5243, 5244, 5245, 5246, 5247, 5248, 5249, 5250, 5251, 5252, 5253, 5254, 5255, 5256, 5257, 5258, 5259, 5260, 5261, 5262, 5263, 5264, 5265, 5266, 5267, 5268, 5269, 5270, 5271, 5272, 5273, 5274, 5275, 5276, 5277, 5278, 5279, 5280, 5281, 5282, 5283, 5284, 5285, 5286, 5287, 5288, 5289, 5290, 5291, 5292, 5293, 5294, 5295, 5296, 5297, 5298, 5299, 5300, 5301, 5302, 5303, 5304, 5305, 5306, 5307, 5308, 5309, 5310, 5311, 5312, 5313, 5314, 5315, 5316, 5317, 5318, 5319, 5320, 5321, 5322, 5323, 5324, 5325, 5326, 5327, 5328, 5329, 5330, 5331, 5332, 5333, 5334, 5335, 5336, 5337, 5338, 5339, 5340, 5341, 5342, 5343, 5344, 5345, 5346, 5347, 5348, 5349, 5350, 5351, 5352, 5353, 5354, 5355, 5356, 5357, 5358, 5359, 5360, 5361, 5362, 5363, 5364, 5365, 5366, 5367, 5368, 5369, 5370, 5371, 5372, 5373, 5374, 5375, 5376, 5377, 5378, 5379, 5380, 5381, 5382, 5383, 5384, 5385, 5386, 5387, 5388, 5389, 5390, 5391, 5392, 5393, 5394, 5395, 5396, 5397, 5398, 5399, 5400, 5401, 5402, 5403, 5404, 5405, 5406, 5407, 5408, 5409, 5410, 5411, 5412, 5413, 5414, 5415, 5416, 5417, 5418, 5419, 5420, 5421, 5422, 5423, 5424, 5425, 5426, 5427, 5428, 5429, 5430, 5431, 5432, 5433, 5434, 5435, 5436, 5437, 5438, 5439, 5440, 5441, 5442, 5443, 5444, 5445, 5446, 5447, 5448, 5449, 5450, 5451, 5452, 5453, 5454, 5455, 5456, 5457, 5458, 5459, 5460, 5461, 5462, 5463, 5464, 5465, 5466, 5467, 5468, 5469, 5470, 5471, 5472, 5473, 5474, 5475, 5476, 5477, 5478, 5479, 5480, 5481, 5482, 5483, 5484, 5485, 5486, 5487, 5488, 5489, 5490, 5491, 5492, 5493, 5494, 5495, 5496, 5497, 5498, 5499, 5500, 5501, 5502, 5503, 5504, 5505, 5506, 5507, 5508, 5509, 5510, 5511, 5512, 5513, 5514, 5515, 5516, 5517, 5518, 551..."
            ]
          },
          "metadata": {
            "tags": []
          },
          "execution_count": 83
        }
      ]
    },
    {
      "cell_type": "code",
      "metadata": {
        "id": "4bIfOAvx2HBi",
        "colab_type": "code",
        "colab": {
          "base_uri": "https://localhost:8080/",
          "height": 33
        },
        "outputId": "bae089d0-f580-47aa-aa0e-7181419295bd"
      },
      "source": [
        "pvf.length"
      ],
      "execution_count": null,
      "outputs": [
        {
          "output_type": "execute_result",
          "data": {
            "text/plain": [
              "\u001b[36mres83\u001b[39m: \u001b[32mInt\u001b[39m = \u001b[32m5000\u001b[39m"
            ]
          },
          "metadata": {
            "tags": []
          },
          "execution_count": 84
        }
      ]
    },
    {
      "cell_type": "code",
      "metadata": {
        "id": "6xnnEWaE2KXj",
        "colab_type": "code",
        "colab": {
          "base_uri": "https://localhost:8080/",
          "height": 53
        },
        "outputId": "c14bc01c-51a7-4707-8e83-d4549ec33248"
      },
      "source": [
        "val pvf2 = pv.filterNot(_ > 5000)"
      ],
      "execution_count": null,
      "outputs": [
        {
          "output_type": "execute_result",
          "data": {
            "text/plain": [
              "\u001b[36mpvf2\u001b[39m: \u001b[32mcollection\u001b[39m.\u001b[32mparallel\u001b[39m.\u001b[32mmutable\u001b[39m.\u001b[32mParArray\u001b[39m[\u001b[32mInt\u001b[39m] = ParArray(1, 2, 3, 4, 5, 6, 7, 8, 9, 10, 11, 12, 13, 14, 15, 16, 17, 18, 19, 20, 21, 22, 23, 24, 25, 26, 27, 28, 29, 30, 31, 32, 33, 34, 35, 36, 37, 38, 39, 40, 41, 42, 43, 44, 45, 46, 47, 48, 49, 50, 51, 52, 53, 54, 55, 56, 57, 58, 59, 60, 61, 62, 63, 64, 65, 66, 67, 68, 69, 70, 71, 72, 73, 74, 75, 76, 77, 78, 79, 80, 81, 82, 83, 84, 85, 86, 87, 88, 89, 90, 91, 92, 93, 94, 95, 96, 97, 98, 99, 100, 101, 102, 103, 104, 105, 106, 107, 108, 109, 110, 111, 112, 113, 114, 115, 116, 117, 118, 119, 120, 121, 122, 123, 124, 125, 126, 127, 128, 129, 130, 131, 132, 133, 134, 135, 136, 137, 138, 139, 140, 141, 142, 143, 144, 145, 146, 147, 148, 149, 150, 151, 152, 153, 154, 155, 156, 157, 158, 159, 160, 161, 162, 163, 164, 165, 166, 167, 168, 169, 170, 171, 172, 173, 174, 175, 176, 177, 178, 179, 180, 181, 182, 183, 184, 185, 186, 187, 188, 189, 190, 191, 192, 193, 194, 195, 196, 197, 198, 199, 200, 201, 202, 203, 204, 205, 206, 207, 208, 209, 210, 211, 212, 213, 214, 215, 216, 217, 218, 219, 220, 221, 222, 223, 224, 225, 226, 227, 228, 229, 230, 231, 232, 233, 234, 235, 236, 237, 238, 239, 240, 241, 242, 243, 244, 245, 246, 247, 248, 249, 250, 251, 252, 253, 254, 255, 256, 257, 258, 259, 260, 261, 262, 263, 264, 265, 266, 267, 268, 269, 270, 271, 272, 273, 274, 275, 276, 277, 278, 279, 280, 281, 282, 283, 284, 285, 286, 287, 288, 289, 290, 291, 292, 293, 294, 295, 296, 297, 298, 299, 300, 301, 302, 303, 304, 305, 306, 307, 308, 309, 310, 311, 312, 313, 314, 315, 316, 317, 318, 319, 320, 321, 322, 323, 324, 325, 326, 327, 328, 329, 330, 331, 332, 333, 334, 335, 336, 337, 338, 339, 340, 341, 342, 343, 344, 345, 346, 347, 348, 349, 350, 351, 352, 353, 354, 355, 356, 357, 358, 359, 360, 361, 362, 363, 364, 365, 366, 367, 368, 369, 370, 371, 372, 373, 374, 375, 376, 377, 378, 379, 380, 381, 382, 383, 384, 385, 386, 387, 388, 389, 390, 391, 392, 393, 394, 395, 396, 397, 398, 399, 400, 401, 402, 403, 404, 405, 406, 407, 408, 409, 410, 411, 412, 413, 414, 415, 416, 417, 418, 419, 420, 421, 422, 423, 424, 425, 426, 427, 428, 429, 430, 431, 432, 433, 434, 435, 436, 437, 438, 439, 440, 441, 442, 443, 444, 445, 446, 447, 448, 449, 450, 451, 452, 453, 454, 455, 456, 457, 458, 459, 460, 461, 462, 463, 464, 465, 466, 467, 468, 469, 470, 471, 472, 473, 474, 475, 476, 477, 478, 479, 480, 481, 482, 483, 484, 485, 486, 487, 488, 489, 490, 491, 492, 493, 494, 495, 496, 497, 498, 499, 500, 501, 502, 503, 504, 505, 506, 507, 508, 509, 510, 511, 512, 513, 514, 515, 516, 517, 518, 519, 520, 521, 522, 523, 524, 525, 526, 527, 528, 529, 530, 531, 532, 533, 534, 535, 536, 537, 538, 539, 540, 541, 542, 543, 544, 545, 546, 547, 548, 549, 550, 551, 552, 553, 554, 555, 556, 557, 558, 559, 560, 561, 562, 563, 564, 565, 566, 567, 568, 569, 570, 571, 572, 573, 574, 575, 576, 577, 578, 579, 580, 581, 582, 583, 584, 585, 586, 587, 588, 589, 590, 591, 592, 593, 594, 595, 596, 597, 598, 599, 600, 601, 602, 603, 604, 605, 606, 607, 608, 609, 610, 611, 612, 613, 614, 615, 616, 617, 618, 619, 620, 621, 622, 623, 624, 625, 626, 627, 628, 629, 630, 631, 632, 633, 634, 635, 636, 637, 638, 639, 640, 641, 642, 643, 644,..."
            ]
          },
          "metadata": {
            "tags": []
          },
          "execution_count": 85
        }
      ]
    },
    {
      "cell_type": "code",
      "metadata": {
        "id": "UrRhzoPx2P4q",
        "colab_type": "code",
        "colab": {
          "base_uri": "https://localhost:8080/",
          "height": 33
        },
        "outputId": "07d1f75b-b85c-442d-b2d1-34a8b92f63bf"
      },
      "source": [
        "// function to return True or False whether value is divisible by 3\n",
        "def div3(x:Int) : Boolean = { val y:Int = (x%3); return(y==0)}"
      ],
      "execution_count": null,
      "outputs": [
        {
          "output_type": "execute_result",
          "data": {
            "text/plain": [
              "defined \u001b[32mfunction\u001b[39m \u001b[36mdiv3\u001b[39m"
            ]
          },
          "metadata": {
            "tags": []
          },
          "execution_count": 86
        }
      ]
    },
    {
      "cell_type": "code",
      "metadata": {
        "id": "lb_fotp02wwn",
        "colab_type": "code",
        "colab": {
          "base_uri": "https://localhost:8080/",
          "height": 33
        },
        "outputId": "d399db6d-85e2-41df-8601-ae7228e0a36e"
      },
      "source": [
        "div3(9)"
      ],
      "execution_count": null,
      "outputs": [
        {
          "output_type": "execute_result",
          "data": {
            "text/plain": [
              "\u001b[36mres87\u001b[39m: \u001b[32mBoolean\u001b[39m = true"
            ]
          },
          "metadata": {
            "tags": []
          },
          "execution_count": 88
        }
      ]
    },
    {
      "cell_type": "code",
      "metadata": {
        "id": "CDAq1teU2zW1",
        "colab_type": "code",
        "colab": {
          "base_uri": "https://localhost:8080/",
          "height": 53
        },
        "outputId": "1edfc1c0-10af-48a4-c9f6-d7be896da6f3"
      },
      "source": [
        "pv.filter(div3(_))"
      ],
      "execution_count": null,
      "outputs": [
        {
          "output_type": "execute_result",
          "data": {
            "text/plain": [
              "\u001b[36mres88\u001b[39m: \u001b[32mcollection\u001b[39m.\u001b[32mparallel\u001b[39m.\u001b[32mmutable\u001b[39m.\u001b[32mParArray\u001b[39m[\u001b[32mInt\u001b[39m] = ParArray(3, 6, 9, 12, 15, 18, 21, 24, 27, 30, 33, 36, 39, 42, 45, 48, 51, 54, 57, 60, 63, 66, 69, 72, 75, 78, 81, 84, 87, 90, 93, 96, 99, 102, 105, 108, 111, 114, 117, 120, 123, 126, 129, 132, 135, 138, 141, 144, 147, 150, 153, 156, 159, 162, 165, 168, 171, 174, 177, 180, 183, 186, 189, 192, 195, 198, 201, 204, 207, 210, 213, 216, 219, 222, 225, 228, 231, 234, 237, 240, 243, 246, 249, 252, 255, 258, 261, 264, 267, 270, 273, 276, 279, 282, 285, 288, 291, 294, 297, 300, 303, 306, 309, 312, 315, 318, 321, 324, 327, 330, 333, 336, 339, 342, 345, 348, 351, 354, 357, 360, 363, 366, 369, 372, 375, 378, 381, 384, 387, 390, 393, 396, 399, 402, 405, 408, 411, 414, 417, 420, 423, 426, 429, 432, 435, 438, 441, 444, 447, 450, 453, 456, 459, 462, 465, 468, 471, 474, 477, 480, 483, 486, 489, 492, 495, 498, 501, 504, 507, 510, 513, 516, 519, 522, 525, 528, 531, 534, 537, 540, 543, 546, 549, 552, 555, 558, 561, 564, 567, 570, 573, 576, 579, 582, 585, 588, 591, 594, 597, 600, 603, 606, 609, 612, 615, 618, 621, 624, 627, 630, 633, 636, 639, 642, 645, 648, 651, 654, 657, 660, 663, 666, 669, 672, 675, 678, 681, 684, 687, 690, 693, 696, 699, 702, 705, 708, 711, 714, 717, 720, 723, 726, 729, 732, 735, 738, 741, 744, 747, 750, 753, 756, 759, 762, 765, 768, 771, 774, 777, 780, 783, 786, 789, 792, 795, 798, 801, 804, 807, 810, 813, 816, 819, 822, 825, 828, 831, 834, 837, 840, 843, 846, 849, 852, 855, 858, 861, 864, 867, 870, 873, 876, 879, 882, 885, 888, 891, 894, 897, 900, 903, 906, 909, 912, 915, 918, 921, 924, 927, 930, 933, 936, 939, 942, 945, 948, 951, 954, 957, 960, 963, 966, 969, 972, 975, 978, 981, 984, 987, 990, 993, 996, 999, 1002, 1005, 1008, 1011, 1014, 1017, 1020, 1023, 1026, 1029, 1032, 1035, 1038, 1041, 1044, 1047, 1050, 1053, 1056, 1059, 1062, 1065, 1068, 1071, 1074, 1077, 1080, 1083, 1086, 1089, 1092, 1095, 1098, 1101, 1104, 1107, 1110, 1113, 1116, 1119, 1122, 1125, 1128, 1131, 1134, 1137, 1140, 1143, 1146, 1149, 1152, 1155, 1158, 1161, 1164, 1167, 1170, 1173, 1176, 1179, 1182, 1185, 1188, 1191, 1194, 1197, 1200, 1203, 1206, 1209, 1212, 1215, 1218, 1221, 1224, 1227, 1230, 1233, 1236, 1239, 1242, 1245, 1248, 1251, 1254, 1257, 1260, 1263, 1266, 1269, 1272, 1275, 1278, 1281, 1284, 1287, 1290, 1293, 1296, 1299, 1302, 1305, 1308, 1311, 1314, 1317, 1320, 1323, 1326, 1329, 1332, 1335, 1338, 1341, 1344, 1347, 1350, 1353, 1356, 1359, 1362, 1365, 1368, 1371, 1374, 1377, 1380, 1383, 1386, 1389, 1392, 1395, 1398, 1401, 1404, 1407, 1410, 1413, 1416, 1419, 1422, 1425, 1428, 1431, 1434, 1437, 1440, 1443, 1446, 1449, 1452, 1455, 1458, 1461, 1464, 1467, 1470, 1473, 1476, 1479, 1482, 1485, 1488, 1491, 1494, 1497, 1500, 1503, 1506, 1509, 1512, 1515, 1518, 1521, 1524, 1527, 1530, 1533, 1536, 1539, 1542, 1545, 1548, 1551, 1554, 1557, 1560, 1563, 1566, 1569, 1572, 1575, 1578, 1581, 1584, 1587, 1590, 1593, 1596, 1599, 1602, 1605, 1608, 1611, 1614, 1617, 1620, 1623, 1626, 1629, 1632, 1635, 1638, 1641, 1644, 1647, 1650, 1653, 1656, 1659, 1662, 1665, 1668, 1671, 1674, 1677, 1680, 1683, 1686, 1689, 1692, 1695, 1698, 1701, 1704, 1707, 1710, 1713, 1716, 1719, 1722, 1725, 1728, 1731, 1734, 1737, 1740, ..."
            ]
          },
          "metadata": {
            "tags": []
          },
          "execution_count": 89
        }
      ]
    },
    {
      "cell_type": "markdown",
      "metadata": {
        "id": "FlJiMSOd-DGV",
        "colab_type": "text"
      },
      "source": [
        "# Conclusions\n",
        "\n",
        "In this episode, we have learned the basics of Scala and covered below key concepts with excercises.\n",
        "\n",
        "* Running Scala in Google colab\n",
        "* Basic Scala Data Types\n",
        "* Scala Functions and Classes\n",
        "* Paralel Processing in Scala\n",
        "\n",
        "In the next Episode, we will learn about spark with Scala using Google Colab\n",
        "\n"
      ]
    }
  ]
}